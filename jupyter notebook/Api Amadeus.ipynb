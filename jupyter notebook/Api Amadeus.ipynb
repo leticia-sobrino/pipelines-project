{
 "cells": [
  {
   "cell_type": "markdown",
   "metadata": {},
   "source": [
    "## API AMADEUS"
   ]
  },
  {
   "cell_type": "code",
   "execution_count": 1,
   "metadata": {},
   "outputs": [],
   "source": [
    "import os\n",
    "from dotenv import load_dotenv\n",
    "import requests\n",
    "import re\n",
    "load_dotenv()\n",
    "import pandas as pd"
   ]
  },
  {
   "cell_type": "code",
   "execution_count": 2,
   "metadata": {},
   "outputs": [
    {
     "name": "stdout",
     "output_type": "stream",
     "text": [
      "[400]\n",
      "\n"
     ]
    }
   ],
   "source": [
    "from amadeus import Client, ResponseError\n",
    "\n",
    "amadeus = Client(\n",
    "    client_id='EpkeaqoOnZoGGZTVTMn5T9h1tfDgLHVo',\n",
    "    client_secret='9A8LUOrsKaxJ9N7E'\n",
    ")\n",
    "\n",
    "try:\n",
    "    response = amadeus.shopping.flight_offers_search.get(\n",
    "        originLocationCode='SYD',\n",
    "        destinationLocationCode='BKK',\n",
    "        departureDate='2020-10-01',\n",
    "        adults=1)\n",
    "    print(response.data)\n",
    "except ResponseError as error:\n",
    "    print(error)"
   ]
  },
  {
   "cell_type": "markdown",
   "metadata": {},
   "source": [
    "### OFERTA DE HOTELES EN MADRID"
   ]
  },
  {
   "cell_type": "code",
   "execution_count": 73,
   "metadata": {},
   "outputs": [
    {
     "data": {
      "text/plain": [
       "<amadeus.client.response.Response at 0x1efd1174160>"
      ]
     },
     "execution_count": 73,
     "metadata": {},
     "output_type": "execute_result"
    }
   ],
   "source": [
    "hotel_offers = amadeus.shopping.hotel_offers.get(cityCode='MAD')\n",
    "hotel_offers"
   ]
  },
  {
   "cell_type": "code",
   "execution_count": 84,
   "metadata": {},
   "outputs": [
    {
     "name": "stdout",
     "output_type": "stream",
     "text": [
      "<amadeus.client.response.Response object at 0x000001EFD1174160>\n"
     ]
    }
   ],
   "source": [
    "print(hotel_offers)"
   ]
  },
  {
   "cell_type": "code",
   "execution_count": 83,
   "metadata": {},
   "outputs": [
    {
     "data": {
      "text/plain": [
       "200"
      ]
     },
     "execution_count": 83,
     "metadata": {},
     "output_type": "execute_result"
    }
   ],
   "source": [
    "hotel_offers.status_code"
   ]
  },
  {
   "cell_type": "code",
   "execution_count": 74,
   "metadata": {
    "scrolled": true
   },
   "outputs": [
    {
     "data": {
      "text/html": [
       "<div>\n",
       "<style scoped>\n",
       "    .dataframe tbody tr th:only-of-type {\n",
       "        vertical-align: middle;\n",
       "    }\n",
       "\n",
       "    .dataframe tbody tr th {\n",
       "        vertical-align: top;\n",
       "    }\n",
       "\n",
       "    .dataframe thead th {\n",
       "        text-align: right;\n",
       "    }\n",
       "</style>\n",
       "<table border=\"1\" class=\"dataframe\">\n",
       "  <thead>\n",
       "    <tr style=\"text-align: right;\">\n",
       "      <th></th>\n",
       "      <th>type</th>\n",
       "      <th>hotel</th>\n",
       "      <th>available</th>\n",
       "      <th>offers</th>\n",
       "      <th>self</th>\n",
       "    </tr>\n",
       "  </thead>\n",
       "  <tbody>\n",
       "    <tr>\n",
       "      <th>0</th>\n",
       "      <td>hotel-offers</td>\n",
       "      <td>{'type': 'hotel', 'hotelId': 'HAMADGEN', 'chai...</td>\n",
       "      <td>True</td>\n",
       "      <td>[{'id': '4W8HGU9ZQR', 'checkInDate': '2020-11-...</td>\n",
       "      <td>https://test.api.amadeus.com/v2/shopping/hotel...</td>\n",
       "    </tr>\n",
       "    <tr>\n",
       "      <th>1</th>\n",
       "      <td>hotel-offers</td>\n",
       "      <td>{'type': 'hotel', 'hotelId': 'HAMADCOL', 'chai...</td>\n",
       "      <td>True</td>\n",
       "      <td>[{'id': 'JLM1M6QKME', 'checkInDate': '2020-11-...</td>\n",
       "      <td>https://test.api.amadeus.com/v2/shopping/hotel...</td>\n",
       "    </tr>\n",
       "    <tr>\n",
       "      <th>2</th>\n",
       "      <td>hotel-offers</td>\n",
       "      <td>{'type': 'hotel', 'hotelId': 'HSMADAIR', 'chai...</td>\n",
       "      <td>True</td>\n",
       "      <td>[{'id': '2VQAZL4LR3', 'checkInDate': '2020-11-...</td>\n",
       "      <td>https://test.api.amadeus.com/v2/shopping/hotel...</td>\n",
       "    </tr>\n",
       "    <tr>\n",
       "      <th>3</th>\n",
       "      <td>hotel-offers</td>\n",
       "      <td>{'type': 'hotel', 'hotelId': 'HSMADAIO', 'chai...</td>\n",
       "      <td>True</td>\n",
       "      <td>[{'id': '7VZVSVP2UF', 'checkInDate': '2020-11-...</td>\n",
       "      <td>https://test.api.amadeus.com/v2/shopping/hotel...</td>\n",
       "    </tr>\n",
       "    <tr>\n",
       "      <th>4</th>\n",
       "      <td>hotel-offers</td>\n",
       "      <td>{'type': 'hotel', 'hotelId': 'HSMADAUW', 'chai...</td>\n",
       "      <td>True</td>\n",
       "      <td>[{'id': '9T1BV3H134', 'checkInDate': '2020-11-...</td>\n",
       "      <td>https://test.api.amadeus.com/v2/shopping/hotel...</td>\n",
       "    </tr>\n",
       "    <tr>\n",
       "      <th>5</th>\n",
       "      <td>hotel-offers</td>\n",
       "      <td>{'type': 'hotel', 'hotelId': 'KYMADGRA', 'chai...</td>\n",
       "      <td>True</td>\n",
       "      <td>[{'id': 'W5F2FENZFV', 'checkInDate': '2020-11-...</td>\n",
       "      <td>https://test.api.amadeus.com/v2/shopping/hotel...</td>\n",
       "    </tr>\n",
       "    <tr>\n",
       "      <th>6</th>\n",
       "      <td>hotel-offers</td>\n",
       "      <td>{'type': 'hotel', 'hotelId': 'HAMADS33', 'chai...</td>\n",
       "      <td>True</td>\n",
       "      <td>[{'id': '2NQ1YJCO1N', 'checkInDate': '2020-11-...</td>\n",
       "      <td>https://test.api.amadeus.com/v2/shopping/hotel...</td>\n",
       "    </tr>\n",
       "  </tbody>\n",
       "</table>\n",
       "</div>"
      ],
      "text/plain": [
       "           type                                              hotel  available  \\\n",
       "0  hotel-offers  {'type': 'hotel', 'hotelId': 'HAMADGEN', 'chai...       True   \n",
       "1  hotel-offers  {'type': 'hotel', 'hotelId': 'HAMADCOL', 'chai...       True   \n",
       "2  hotel-offers  {'type': 'hotel', 'hotelId': 'HSMADAIR', 'chai...       True   \n",
       "3  hotel-offers  {'type': 'hotel', 'hotelId': 'HSMADAIO', 'chai...       True   \n",
       "4  hotel-offers  {'type': 'hotel', 'hotelId': 'HSMADAUW', 'chai...       True   \n",
       "5  hotel-offers  {'type': 'hotel', 'hotelId': 'KYMADGRA', 'chai...       True   \n",
       "6  hotel-offers  {'type': 'hotel', 'hotelId': 'HAMADS33', 'chai...       True   \n",
       "\n",
       "                                              offers  \\\n",
       "0  [{'id': '4W8HGU9ZQR', 'checkInDate': '2020-11-...   \n",
       "1  [{'id': 'JLM1M6QKME', 'checkInDate': '2020-11-...   \n",
       "2  [{'id': '2VQAZL4LR3', 'checkInDate': '2020-11-...   \n",
       "3  [{'id': '7VZVSVP2UF', 'checkInDate': '2020-11-...   \n",
       "4  [{'id': '9T1BV3H134', 'checkInDate': '2020-11-...   \n",
       "5  [{'id': 'W5F2FENZFV', 'checkInDate': '2020-11-...   \n",
       "6  [{'id': '2NQ1YJCO1N', 'checkInDate': '2020-11-...   \n",
       "\n",
       "                                                self  \n",
       "0  https://test.api.amadeus.com/v2/shopping/hotel...  \n",
       "1  https://test.api.amadeus.com/v2/shopping/hotel...  \n",
       "2  https://test.api.amadeus.com/v2/shopping/hotel...  \n",
       "3  https://test.api.amadeus.com/v2/shopping/hotel...  \n",
       "4  https://test.api.amadeus.com/v2/shopping/hotel...  \n",
       "5  https://test.api.amadeus.com/v2/shopping/hotel...  \n",
       "6  https://test.api.amadeus.com/v2/shopping/hotel...  "
      ]
     },
     "execution_count": 74,
     "metadata": {},
     "output_type": "execute_result"
    }
   ],
   "source": [
    "df_hotel_offers = pd.DataFrame(hotel_offers.data)\n",
    "df_hotel_offers"
   ]
  },
  {
   "cell_type": "code",
   "execution_count": 90,
   "metadata": {},
   "outputs": [
    {
     "data": {
      "text/plain": [
       "[[{'id': '4W8HGU9ZQR',\n",
       "   'checkInDate': '2020-11-09',\n",
       "   'checkOutDate': '2020-11-10',\n",
       "   'rateCode': 'LPR',\n",
       "   'rateFamilyEstimated': {'code': 'BAR', 'type': 'P'},\n",
       "   'commission': {'percentage': '10'},\n",
       "   'room': {'type': 'B1S',\n",
       "    'typeEstimated': {'category': 'STANDARD_ROOM',\n",
       "     'beds': 1,\n",
       "     'bedType': 'SINGLE'},\n",
       "    'description': {'text': 'BEST AVAILABLE RATE SINGLE ONLY ROOM Room Only'}},\n",
       "   'guests': {'adults': 1},\n",
       "   'price': {'currency': 'EUR',\n",
       "    'total': '78.00',\n",
       "    'variations': {'average': {'total': '78.00'},\n",
       "     'changes': [{'startDate': '2020-11-09',\n",
       "       'endDate': '2020-11-10',\n",
       "       'total': '78.00'}]}},\n",
       "   'policies': {'deposit': {'acceptedPayments': {'creditCards': ['AX',\n",
       "       'CA',\n",
       "       'EC',\n",
       "       'IK',\n",
       "       'JC',\n",
       "       'MC',\n",
       "       'VI'],\n",
       "      'methods': ['CREDIT_CARD']}},\n",
       "    'paymentType': 'deposit'}}],\n",
       " [{'id': 'JLM1M6QKME',\n",
       "   'checkInDate': '2020-11-09',\n",
       "   'checkOutDate': '2020-11-10',\n",
       "   'rateCode': 'LPR',\n",
       "   'rateFamilyEstimated': {'code': 'BAR', 'type': 'P'},\n",
       "   'commission': {'percentage': '10'},\n",
       "   'room': {'type': 'S1A',\n",
       "    'typeEstimated': {'category': 'STANDARD_ROOM'},\n",
       "    'description': {'text': 'BEST AVAILABLE RATE SMART ROOM 1 PAX ONLY BED Room Only'}},\n",
       "   'guests': {'adults': 1},\n",
       "   'price': {'currency': 'EUR',\n",
       "    'total': '117.00',\n",
       "    'variations': {'average': {'total': '117.00'},\n",
       "     'changes': [{'startDate': '2020-11-09',\n",
       "       'endDate': '2020-11-10',\n",
       "       'total': '117.00'}]}},\n",
       "   'policies': {'deposit': {'acceptedPayments': {'creditCards': ['AX',\n",
       "       'CA',\n",
       "       'IK',\n",
       "       'JC',\n",
       "       'MC',\n",
       "       'VI',\n",
       "       'DC',\n",
       "       'EC'],\n",
       "      'methods': ['CREDIT_CARD']}},\n",
       "    'paymentType': 'deposit'}}],\n",
       " [{'id': '2VQAZL4LR3',\n",
       "   'checkInDate': '2020-11-09',\n",
       "   'checkOutDate': '2020-11-10',\n",
       "   'rateCode': 'PRO',\n",
       "   'rateFamilyEstimated': {'code': 'PRO', 'type': 'P'},\n",
       "   'commission': {'percentage': '4.00'},\n",
       "   'room': {'type': 'ROH',\n",
       "    'typeEstimated': {'category': 'STANDARD_ROOM'},\n",
       "    'description': {'text': 'Hot Deal Standard room A standard room consists of a room with shower-toilet or bathtub-toilet.'}},\n",
       "   'guests': {'adults': 1},\n",
       "   'price': {'currency': 'EUR',\n",
       "    'total': '48.00',\n",
       "    'variations': {'average': {'total': '48.00'},\n",
       "     'changes': [{'startDate': '2020-11-09',\n",
       "       'endDate': '2020-11-10',\n",
       "       'total': '48.00'}]}},\n",
       "   'policies': {'deposit': {'acceptedPayments': {'creditCards': ['VI',\n",
       "       'MC',\n",
       "       'CA',\n",
       "       'JC'],\n",
       "      'methods': ['CREDIT_CARD']}},\n",
       "    'paymentType': 'deposit',\n",
       "    'cancellation': {'deadline': '2020-10-18T12:24:00+01:00'}}}],\n",
       " [{'id': '7VZVSVP2UF',\n",
       "   'checkInDate': '2020-11-09',\n",
       "   'checkOutDate': '2020-11-10',\n",
       "   'rateCode': 'PRO',\n",
       "   'commission': {'percentage': '4.00'},\n",
       "   'room': {'type': 'ROH',\n",
       "    'typeEstimated': {'category': 'COMFORT_ROOM',\n",
       "     'beds': 1,\n",
       "     'bedType': 'TWIN'},\n",
       "    'description': {'text': 'Single Room - Extra-person charges may apply and vary depending  Standard room 1 Twin Bed75 sq feet Internet - Free WiFi Bathroom - Private bathroom, a hair dryer, and a showerPractical - Safe, free newspaper, and deskComfort - Climate-controlled air conditioningNeed to Know - No cribs (infant beds) availableNon-Smoking'}},\n",
       "   'guests': {'adults': 1},\n",
       "   'price': {'currency': 'EUR',\n",
       "    'total': '45.00',\n",
       "    'variations': {'average': {'total': '45.00'},\n",
       "     'changes': [{'startDate': '2020-11-09',\n",
       "       'endDate': '2020-11-10',\n",
       "       'total': '45.00'}]}},\n",
       "   'policies': {'guarantee': {'acceptedPayments': {'creditCards': ['VI',\n",
       "       'MC',\n",
       "       'CA',\n",
       "       'AX'],\n",
       "      'methods': ['CREDIT_CARD']}},\n",
       "    'paymentType': 'guarantee',\n",
       "    'cancellation': {'numberOfNights': 1,\n",
       "     'deadline': '2020-10-18T12:24:00+01:00'}}}],\n",
       " [{'id': '9T1BV3H134',\n",
       "   'checkInDate': '2020-11-09',\n",
       "   'checkOutDate': '2020-11-10',\n",
       "   'rateCode': 'RAC',\n",
       "   'commission': {'percentage': '4.00'},\n",
       "   'room': {'type': 'ROH',\n",
       "    'typeEstimated': {'category': 'STANDARD_ROOM'},\n",
       "    'description': {'text': 'Event-Rate Standard room A standard room consists of a room with shower-toilet or bathtub-toilet.'}},\n",
       "   'guests': {'adults': 1},\n",
       "   'price': {'currency': 'EUR',\n",
       "    'total': '65.00',\n",
       "    'variations': {'average': {'total': '65.00'},\n",
       "     'changes': [{'startDate': '2020-11-09',\n",
       "       'endDate': '2020-11-10',\n",
       "       'total': '65.00'}]}},\n",
       "   'policies': {'guarantee': {'acceptedPayments': {'creditCards': ['DC',\n",
       "       'DN',\n",
       "       'VI',\n",
       "       'MC',\n",
       "       'CA',\n",
       "       'AX',\n",
       "       'JC'],\n",
       "      'methods': ['CREDIT_CARD']}},\n",
       "    'paymentType': 'guarantee',\n",
       "    'cancellation': {'numberOfNights': 1,\n",
       "     'deadline': '2020-11-06T22:59:00+01:00'}}}],\n",
       " [{'id': 'W5F2FENZFV',\n",
       "   'checkInDate': '2020-11-09',\n",
       "   'checkOutDate': '2020-11-10',\n",
       "   'rateCode': 'LPR',\n",
       "   'rateFamilyEstimated': {'code': 'BAR', 'type': 'P'},\n",
       "   'commission': {'percentage': '11'},\n",
       "   'room': {'type': 'ST2',\n",
       "    'typeEstimated': {'category': 'STUDIO'},\n",
       "    'description': {'text': 'BEST AVAILABLE RATE STUDIO 2 PAX'}},\n",
       "   'guests': {'adults': 1},\n",
       "   'price': {'currency': 'EUR',\n",
       "    'total': '85.00',\n",
       "    'variations': {'average': {'total': '85.00'},\n",
       "     'changes': [{'startDate': '2020-11-09',\n",
       "       'endDate': '2020-11-10',\n",
       "       'total': '85.00'}]}},\n",
       "   'policies': {'guarantee': {'acceptedPayments': {'methods': ['CREDIT_CARD']}},\n",
       "    'paymentType': 'guarantee',\n",
       "    'cancellation': {'deadline': '2020-11-08T12:00:00+01:00'}}}],\n",
       " [{'id': '2NQ1YJCO1N',\n",
       "   'checkInDate': '2020-11-09',\n",
       "   'checkOutDate': '2020-11-10',\n",
       "   'rateCode': 'LPR',\n",
       "   'rateFamilyEstimated': {'code': 'BAR', 'type': 'P'},\n",
       "   'commission': {'percentage': '10'},\n",
       "   'room': {'type': 'B2T',\n",
       "    'typeEstimated': {'category': 'STANDARD_ROOM',\n",
       "     'beds': 2,\n",
       "     'bedType': 'SINGLE'},\n",
       "    'description': {'text': 'BEST AVAILABLE RATE WITH FREE WIFI ACCESS. DOUBLE ROOM FOR SINGLE USE ONLY ROOM Room Only'}},\n",
       "   'guests': {'adults': 1},\n",
       "   'price': {'currency': 'EUR',\n",
       "    'total': '105.00',\n",
       "    'variations': {'average': {'total': '105.00'},\n",
       "     'changes': [{'startDate': '2020-11-09',\n",
       "       'endDate': '2020-11-10',\n",
       "       'total': '105.00'}]}},\n",
       "   'policies': {'guarantee': {'acceptedPayments': {'creditCards': ['AX',\n",
       "       'CA',\n",
       "       'EC',\n",
       "       'IK',\n",
       "       'JC',\n",
       "       'MC',\n",
       "       'VI'],\n",
       "      'methods': ['CREDIT_CARD']}},\n",
       "    'paymentType': 'guarantee',\n",
       "    'cancellation': {'numberOfNights': 1,\n",
       "     'deadline': '2020-11-09T02:09:00+01:00'}}}]]"
      ]
     },
     "execution_count": 90,
     "metadata": {},
     "output_type": "execute_result"
    }
   ],
   "source": [
    "list(df_hotel_offers.offers)"
   ]
  },
  {
   "cell_type": "code",
   "execution_count": 110,
   "metadata": {},
   "outputs": [
    {
     "data": {
      "text/plain": [
       "7"
      ]
     },
     "execution_count": 110,
     "metadata": {},
     "output_type": "execute_result"
    }
   ],
   "source": [
    "# TENEMOS 7 OFERTAS DE HOTELES\n",
    "\n",
    "len(list(df_hotel_offers.offers))"
   ]
  },
  {
   "cell_type": "code",
   "execution_count": 149,
   "metadata": {},
   "outputs": [
    {
     "data": {
      "text/plain": [
       "1"
      ]
     },
     "execution_count": 149,
     "metadata": {},
     "output_type": "execute_result"
    }
   ],
   "source": [
    "df_hotel_offers.offers[0][0]['guests']['adults']"
   ]
  },
  {
   "cell_type": "markdown",
   "metadata": {},
   "source": [
    "##### SACAMOS EL PRECIO TOTAL DE CADA OFERTA"
   ]
  },
  {
   "cell_type": "code",
   "execution_count": 103,
   "metadata": {},
   "outputs": [
    {
     "data": {
      "text/plain": [
       "'78.00'"
      ]
     },
     "execution_count": 103,
     "metadata": {},
     "output_type": "execute_result"
    }
   ],
   "source": [
    "# Para ver dentro de que indice nos vamos a encontrar los precios totales\n",
    "df_hotel_offers.offers[0][0]['price']['total']"
   ]
  },
  {
   "cell_type": "code",
   "execution_count": 91,
   "metadata": {},
   "outputs": [],
   "source": [
    "#Creamos una lista nueva en donde vamos a meter todos los precios totales de las ofertas\n",
    "#Recorremos nuestro lista de datos y solamente sacamos los precios\n",
    "nueva_lista = []\n",
    "for i in list(df_hotel_offers.offers):\n",
    "    nueva_lista.append((i[0]['price']['total']))"
   ]
  },
  {
   "cell_type": "code",
   "execution_count": 104,
   "metadata": {},
   "outputs": [
    {
     "data": {
      "text/html": [
       "<div>\n",
       "<style scoped>\n",
       "    .dataframe tbody tr th:only-of-type {\n",
       "        vertical-align: middle;\n",
       "    }\n",
       "\n",
       "    .dataframe tbody tr th {\n",
       "        vertical-align: top;\n",
       "    }\n",
       "\n",
       "    .dataframe thead th {\n",
       "        text-align: right;\n",
       "    }\n",
       "</style>\n",
       "<table border=\"1\" class=\"dataframe\">\n",
       "  <thead>\n",
       "    <tr style=\"text-align: right;\">\n",
       "      <th></th>\n",
       "      <th>0</th>\n",
       "    </tr>\n",
       "  </thead>\n",
       "  <tbody>\n",
       "    <tr>\n",
       "      <th>0</th>\n",
       "      <td>78.00</td>\n",
       "    </tr>\n",
       "    <tr>\n",
       "      <th>1</th>\n",
       "      <td>117.00</td>\n",
       "    </tr>\n",
       "    <tr>\n",
       "      <th>2</th>\n",
       "      <td>48.00</td>\n",
       "    </tr>\n",
       "    <tr>\n",
       "      <th>3</th>\n",
       "      <td>45.00</td>\n",
       "    </tr>\n",
       "    <tr>\n",
       "      <th>4</th>\n",
       "      <td>65.00</td>\n",
       "    </tr>\n",
       "    <tr>\n",
       "      <th>5</th>\n",
       "      <td>85.00</td>\n",
       "    </tr>\n",
       "    <tr>\n",
       "      <th>6</th>\n",
       "      <td>105.00</td>\n",
       "    </tr>\n",
       "  </tbody>\n",
       "</table>\n",
       "</div>"
      ],
      "text/plain": [
       "        0\n",
       "0   78.00\n",
       "1  117.00\n",
       "2   48.00\n",
       "3   45.00\n",
       "4   65.00\n",
       "5   85.00\n",
       "6  105.00"
      ]
     },
     "execution_count": 104,
     "metadata": {},
     "output_type": "execute_result"
    }
   ],
   "source": [
    "# Creamos un dataframe con nuestros precios que es lo que queremos para luego juntarlo con otros datos que queramos \n",
    "# y tener una tabla limpia\n",
    "\n",
    "df_precios = pd.DataFrame(nueva_lista)\n",
    "df_precios"
   ]
  },
  {
   "cell_type": "markdown",
   "metadata": {},
   "source": [
    "##### SACAMOS LOS CHECKIN DATES DE CADA OFERTA"
   ]
  },
  {
   "cell_type": "code",
   "execution_count": 105,
   "metadata": {},
   "outputs": [],
   "source": [
    "# Seguimos el mismo proceso que hemos hecho con los precios\n",
    "\n",
    "checkIn_list =[]\n",
    "for i in list(df_hotel_offers.offers):\n",
    "    checkIn_list.append((i[0]['checkInDate']))"
   ]
  },
  {
   "cell_type": "code",
   "execution_count": 99,
   "metadata": {},
   "outputs": [
    {
     "data": {
      "text/html": [
       "<div>\n",
       "<style scoped>\n",
       "    .dataframe tbody tr th:only-of-type {\n",
       "        vertical-align: middle;\n",
       "    }\n",
       "\n",
       "    .dataframe tbody tr th {\n",
       "        vertical-align: top;\n",
       "    }\n",
       "\n",
       "    .dataframe thead th {\n",
       "        text-align: right;\n",
       "    }\n",
       "</style>\n",
       "<table border=\"1\" class=\"dataframe\">\n",
       "  <thead>\n",
       "    <tr style=\"text-align: right;\">\n",
       "      <th></th>\n",
       "      <th>0</th>\n",
       "    </tr>\n",
       "  </thead>\n",
       "  <tbody>\n",
       "    <tr>\n",
       "      <th>0</th>\n",
       "      <td>2020-11-09</td>\n",
       "    </tr>\n",
       "    <tr>\n",
       "      <th>1</th>\n",
       "      <td>2020-11-09</td>\n",
       "    </tr>\n",
       "    <tr>\n",
       "      <th>2</th>\n",
       "      <td>2020-11-09</td>\n",
       "    </tr>\n",
       "    <tr>\n",
       "      <th>3</th>\n",
       "      <td>2020-11-09</td>\n",
       "    </tr>\n",
       "    <tr>\n",
       "      <th>4</th>\n",
       "      <td>2020-11-09</td>\n",
       "    </tr>\n",
       "    <tr>\n",
       "      <th>5</th>\n",
       "      <td>2020-11-09</td>\n",
       "    </tr>\n",
       "    <tr>\n",
       "      <th>6</th>\n",
       "      <td>2020-11-09</td>\n",
       "    </tr>\n",
       "  </tbody>\n",
       "</table>\n",
       "</div>"
      ],
      "text/plain": [
       "            0\n",
       "0  2020-11-09\n",
       "1  2020-11-09\n",
       "2  2020-11-09\n",
       "3  2020-11-09\n",
       "4  2020-11-09\n",
       "5  2020-11-09\n",
       "6  2020-11-09"
      ]
     },
     "execution_count": 99,
     "metadata": {},
     "output_type": "execute_result"
    }
   ],
   "source": [
    "df_checkIn = pd.DataFrame(checkIn_list)\n",
    "df_checkIn"
   ]
  },
  {
   "cell_type": "markdown",
   "metadata": {},
   "source": [
    "##### SACAMOS LOS CHECKOUT DATES DE CADA OFERTA"
   ]
  },
  {
   "cell_type": "code",
   "execution_count": 107,
   "metadata": {},
   "outputs": [],
   "source": [
    "checkOut_list =[]\n",
    "for i in list(df_hotel_offers.offers):\n",
    "    checkOut_list.append((i[0]['checkOutDate']))"
   ]
  },
  {
   "cell_type": "code",
   "execution_count": 108,
   "metadata": {},
   "outputs": [
    {
     "data": {
      "text/html": [
       "<div>\n",
       "<style scoped>\n",
       "    .dataframe tbody tr th:only-of-type {\n",
       "        vertical-align: middle;\n",
       "    }\n",
       "\n",
       "    .dataframe tbody tr th {\n",
       "        vertical-align: top;\n",
       "    }\n",
       "\n",
       "    .dataframe thead th {\n",
       "        text-align: right;\n",
       "    }\n",
       "</style>\n",
       "<table border=\"1\" class=\"dataframe\">\n",
       "  <thead>\n",
       "    <tr style=\"text-align: right;\">\n",
       "      <th></th>\n",
       "      <th>0</th>\n",
       "    </tr>\n",
       "  </thead>\n",
       "  <tbody>\n",
       "    <tr>\n",
       "      <th>0</th>\n",
       "      <td>2020-11-10</td>\n",
       "    </tr>\n",
       "    <tr>\n",
       "      <th>1</th>\n",
       "      <td>2020-11-10</td>\n",
       "    </tr>\n",
       "    <tr>\n",
       "      <th>2</th>\n",
       "      <td>2020-11-10</td>\n",
       "    </tr>\n",
       "    <tr>\n",
       "      <th>3</th>\n",
       "      <td>2020-11-10</td>\n",
       "    </tr>\n",
       "    <tr>\n",
       "      <th>4</th>\n",
       "      <td>2020-11-10</td>\n",
       "    </tr>\n",
       "    <tr>\n",
       "      <th>5</th>\n",
       "      <td>2020-11-10</td>\n",
       "    </tr>\n",
       "    <tr>\n",
       "      <th>6</th>\n",
       "      <td>2020-11-10</td>\n",
       "    </tr>\n",
       "  </tbody>\n",
       "</table>\n",
       "</div>"
      ],
      "text/plain": [
       "            0\n",
       "0  2020-11-10\n",
       "1  2020-11-10\n",
       "2  2020-11-10\n",
       "3  2020-11-10\n",
       "4  2020-11-10\n",
       "5  2020-11-10\n",
       "6  2020-11-10"
      ]
     },
     "execution_count": 108,
     "metadata": {},
     "output_type": "execute_result"
    }
   ],
   "source": [
    "df_checkOut = pd.DataFrame(checkOut_list)\n",
    "df_checkOut"
   ]
  },
  {
   "cell_type": "markdown",
   "metadata": {},
   "source": [
    "##### TYPE ROOM"
   ]
  },
  {
   "cell_type": "code",
   "execution_count": 139,
   "metadata": {},
   "outputs": [
    {
     "data": {
      "text/plain": [
       "'STANDARD_ROOM'"
      ]
     },
     "execution_count": 139,
     "metadata": {},
     "output_type": "execute_result"
    }
   ],
   "source": [
    "df_hotel_offers.offers[0][0]['room']['typeEstimated']['category']"
   ]
  },
  {
   "cell_type": "code",
   "execution_count": 141,
   "metadata": {},
   "outputs": [],
   "source": [
    "type_room =[]\n",
    "for i in list(df_hotel_offers.offers):\n",
    "    type_room.append((i[0]['room']['typeEstimated']['category']))"
   ]
  },
  {
   "cell_type": "code",
   "execution_count": 142,
   "metadata": {},
   "outputs": [
    {
     "data": {
      "text/html": [
       "<div>\n",
       "<style scoped>\n",
       "    .dataframe tbody tr th:only-of-type {\n",
       "        vertical-align: middle;\n",
       "    }\n",
       "\n",
       "    .dataframe tbody tr th {\n",
       "        vertical-align: top;\n",
       "    }\n",
       "\n",
       "    .dataframe thead th {\n",
       "        text-align: right;\n",
       "    }\n",
       "</style>\n",
       "<table border=\"1\" class=\"dataframe\">\n",
       "  <thead>\n",
       "    <tr style=\"text-align: right;\">\n",
       "      <th></th>\n",
       "      <th>0</th>\n",
       "    </tr>\n",
       "  </thead>\n",
       "  <tbody>\n",
       "    <tr>\n",
       "      <th>0</th>\n",
       "      <td>STANDARD_ROOM</td>\n",
       "    </tr>\n",
       "    <tr>\n",
       "      <th>1</th>\n",
       "      <td>STANDARD_ROOM</td>\n",
       "    </tr>\n",
       "    <tr>\n",
       "      <th>2</th>\n",
       "      <td>STANDARD_ROOM</td>\n",
       "    </tr>\n",
       "    <tr>\n",
       "      <th>3</th>\n",
       "      <td>COMFORT_ROOM</td>\n",
       "    </tr>\n",
       "    <tr>\n",
       "      <th>4</th>\n",
       "      <td>STANDARD_ROOM</td>\n",
       "    </tr>\n",
       "    <tr>\n",
       "      <th>5</th>\n",
       "      <td>STUDIO</td>\n",
       "    </tr>\n",
       "    <tr>\n",
       "      <th>6</th>\n",
       "      <td>STANDARD_ROOM</td>\n",
       "    </tr>\n",
       "  </tbody>\n",
       "</table>\n",
       "</div>"
      ],
      "text/plain": [
       "               0\n",
       "0  STANDARD_ROOM\n",
       "1  STANDARD_ROOM\n",
       "2  STANDARD_ROOM\n",
       "3   COMFORT_ROOM\n",
       "4  STANDARD_ROOM\n",
       "5         STUDIO\n",
       "6  STANDARD_ROOM"
      ]
     },
     "execution_count": 142,
     "metadata": {},
     "output_type": "execute_result"
    }
   ],
   "source": [
    "df_type_room = pd.DataFrame(type_room)\n",
    "df_type_room"
   ]
  },
  {
   "cell_type": "markdown",
   "metadata": {},
   "source": [
    "##### NUMERO DE GUESTS POR CADA ROOM"
   ]
  },
  {
   "cell_type": "code",
   "execution_count": 150,
   "metadata": {},
   "outputs": [
    {
     "data": {
      "text/plain": [
       "1"
      ]
     },
     "execution_count": 150,
     "metadata": {},
     "output_type": "execute_result"
    }
   ],
   "source": [
    "df_hotel_offers.offers[0][0]['guests']['adults']"
   ]
  },
  {
   "cell_type": "code",
   "execution_count": 151,
   "metadata": {},
   "outputs": [],
   "source": [
    "nº_guests =[]\n",
    "for i in list(df_hotel_offers.offers):\n",
    "    nº_guests.append((i[0]['guests']['adults']))"
   ]
  },
  {
   "cell_type": "code",
   "execution_count": 152,
   "metadata": {},
   "outputs": [
    {
     "data": {
      "text/html": [
       "<div>\n",
       "<style scoped>\n",
       "    .dataframe tbody tr th:only-of-type {\n",
       "        vertical-align: middle;\n",
       "    }\n",
       "\n",
       "    .dataframe tbody tr th {\n",
       "        vertical-align: top;\n",
       "    }\n",
       "\n",
       "    .dataframe thead th {\n",
       "        text-align: right;\n",
       "    }\n",
       "</style>\n",
       "<table border=\"1\" class=\"dataframe\">\n",
       "  <thead>\n",
       "    <tr style=\"text-align: right;\">\n",
       "      <th></th>\n",
       "      <th>0</th>\n",
       "    </tr>\n",
       "  </thead>\n",
       "  <tbody>\n",
       "    <tr>\n",
       "      <th>0</th>\n",
       "      <td>1</td>\n",
       "    </tr>\n",
       "    <tr>\n",
       "      <th>1</th>\n",
       "      <td>1</td>\n",
       "    </tr>\n",
       "    <tr>\n",
       "      <th>2</th>\n",
       "      <td>1</td>\n",
       "    </tr>\n",
       "    <tr>\n",
       "      <th>3</th>\n",
       "      <td>1</td>\n",
       "    </tr>\n",
       "    <tr>\n",
       "      <th>4</th>\n",
       "      <td>1</td>\n",
       "    </tr>\n",
       "    <tr>\n",
       "      <th>5</th>\n",
       "      <td>1</td>\n",
       "    </tr>\n",
       "    <tr>\n",
       "      <th>6</th>\n",
       "      <td>1</td>\n",
       "    </tr>\n",
       "  </tbody>\n",
       "</table>\n",
       "</div>"
      ],
      "text/plain": [
       "   0\n",
       "0  1\n",
       "1  1\n",
       "2  1\n",
       "3  1\n",
       "4  1\n",
       "5  1\n",
       "6  1"
      ]
     },
     "execution_count": 152,
     "metadata": {},
     "output_type": "execute_result"
    }
   ],
   "source": [
    "df_nº_guests = pd.DataFrame(nº_guests)\n",
    "df_nº_guests"
   ]
  },
  {
   "cell_type": "markdown",
   "metadata": {},
   "source": [
    "##### CONCATENAMOS NUESTROS DF"
   ]
  },
  {
   "cell_type": "code",
   "execution_count": 161,
   "metadata": {},
   "outputs": [
    {
     "data": {
      "text/html": [
       "<div>\n",
       "<style scoped>\n",
       "    .dataframe tbody tr th:only-of-type {\n",
       "        vertical-align: middle;\n",
       "    }\n",
       "\n",
       "    .dataframe tbody tr th {\n",
       "        vertical-align: top;\n",
       "    }\n",
       "\n",
       "    .dataframe thead th {\n",
       "        text-align: right;\n",
       "    }\n",
       "</style>\n",
       "<table border=\"1\" class=\"dataframe\">\n",
       "  <thead>\n",
       "    <tr style=\"text-align: right;\">\n",
       "      <th></th>\n",
       "      <th>0</th>\n",
       "      <th>0</th>\n",
       "      <th>0</th>\n",
       "      <th>0</th>\n",
       "      <th>0</th>\n",
       "    </tr>\n",
       "  </thead>\n",
       "  <tbody>\n",
       "    <tr>\n",
       "      <th>0</th>\n",
       "      <td>2020-11-09</td>\n",
       "      <td>2020-11-10</td>\n",
       "      <td>78.00</td>\n",
       "      <td>STANDARD_ROOM</td>\n",
       "      <td>1</td>\n",
       "    </tr>\n",
       "    <tr>\n",
       "      <th>1</th>\n",
       "      <td>2020-11-09</td>\n",
       "      <td>2020-11-10</td>\n",
       "      <td>117.00</td>\n",
       "      <td>STANDARD_ROOM</td>\n",
       "      <td>1</td>\n",
       "    </tr>\n",
       "    <tr>\n",
       "      <th>2</th>\n",
       "      <td>2020-11-09</td>\n",
       "      <td>2020-11-10</td>\n",
       "      <td>48.00</td>\n",
       "      <td>STANDARD_ROOM</td>\n",
       "      <td>1</td>\n",
       "    </tr>\n",
       "    <tr>\n",
       "      <th>3</th>\n",
       "      <td>2020-11-09</td>\n",
       "      <td>2020-11-10</td>\n",
       "      <td>45.00</td>\n",
       "      <td>COMFORT_ROOM</td>\n",
       "      <td>1</td>\n",
       "    </tr>\n",
       "    <tr>\n",
       "      <th>4</th>\n",
       "      <td>2020-11-09</td>\n",
       "      <td>2020-11-10</td>\n",
       "      <td>65.00</td>\n",
       "      <td>STANDARD_ROOM</td>\n",
       "      <td>1</td>\n",
       "    </tr>\n",
       "    <tr>\n",
       "      <th>5</th>\n",
       "      <td>2020-11-09</td>\n",
       "      <td>2020-11-10</td>\n",
       "      <td>85.00</td>\n",
       "      <td>STUDIO</td>\n",
       "      <td>1</td>\n",
       "    </tr>\n",
       "    <tr>\n",
       "      <th>6</th>\n",
       "      <td>2020-11-09</td>\n",
       "      <td>2020-11-10</td>\n",
       "      <td>105.00</td>\n",
       "      <td>STANDARD_ROOM</td>\n",
       "      <td>1</td>\n",
       "    </tr>\n",
       "  </tbody>\n",
       "</table>\n",
       "</div>"
      ],
      "text/plain": [
       "            0           0       0              0  0\n",
       "0  2020-11-09  2020-11-10   78.00  STANDARD_ROOM  1\n",
       "1  2020-11-09  2020-11-10  117.00  STANDARD_ROOM  1\n",
       "2  2020-11-09  2020-11-10   48.00  STANDARD_ROOM  1\n",
       "3  2020-11-09  2020-11-10   45.00   COMFORT_ROOM  1\n",
       "4  2020-11-09  2020-11-10   65.00  STANDARD_ROOM  1\n",
       "5  2020-11-09  2020-11-10   85.00         STUDIO  1\n",
       "6  2020-11-09  2020-11-10  105.00  STANDARD_ROOM  1"
      ]
     },
     "execution_count": 161,
     "metadata": {},
     "output_type": "execute_result"
    }
   ],
   "source": [
    "df_clean = pd.concat([df_checkIn, df_checkOut, df_precios, df_type_room, df_nº_guests], axis=1)\n",
    "df_clean"
   ]
  },
  {
   "cell_type": "code",
   "execution_count": 162,
   "metadata": {},
   "outputs": [
    {
     "data": {
      "text/html": [
       "<div>\n",
       "<style scoped>\n",
       "    .dataframe tbody tr th:only-of-type {\n",
       "        vertical-align: middle;\n",
       "    }\n",
       "\n",
       "    .dataframe tbody tr th {\n",
       "        vertical-align: top;\n",
       "    }\n",
       "\n",
       "    .dataframe thead th {\n",
       "        text-align: right;\n",
       "    }\n",
       "</style>\n",
       "<table border=\"1\" class=\"dataframe\">\n",
       "  <thead>\n",
       "    <tr style=\"text-align: right;\">\n",
       "      <th></th>\n",
       "      <th>checkInDate</th>\n",
       "      <th>checkOutDate</th>\n",
       "      <th>TotalPrice</th>\n",
       "      <th>TypeRoom</th>\n",
       "      <th>Guests/room</th>\n",
       "    </tr>\n",
       "  </thead>\n",
       "  <tbody>\n",
       "    <tr>\n",
       "      <th>0</th>\n",
       "      <td>2020-11-09</td>\n",
       "      <td>2020-11-10</td>\n",
       "      <td>78.00</td>\n",
       "      <td>STANDARD_ROOM</td>\n",
       "      <td>1</td>\n",
       "    </tr>\n",
       "    <tr>\n",
       "      <th>1</th>\n",
       "      <td>2020-11-09</td>\n",
       "      <td>2020-11-10</td>\n",
       "      <td>117.00</td>\n",
       "      <td>STANDARD_ROOM</td>\n",
       "      <td>1</td>\n",
       "    </tr>\n",
       "    <tr>\n",
       "      <th>2</th>\n",
       "      <td>2020-11-09</td>\n",
       "      <td>2020-11-10</td>\n",
       "      <td>48.00</td>\n",
       "      <td>STANDARD_ROOM</td>\n",
       "      <td>1</td>\n",
       "    </tr>\n",
       "    <tr>\n",
       "      <th>3</th>\n",
       "      <td>2020-11-09</td>\n",
       "      <td>2020-11-10</td>\n",
       "      <td>45.00</td>\n",
       "      <td>COMFORT_ROOM</td>\n",
       "      <td>1</td>\n",
       "    </tr>\n",
       "    <tr>\n",
       "      <th>4</th>\n",
       "      <td>2020-11-09</td>\n",
       "      <td>2020-11-10</td>\n",
       "      <td>65.00</td>\n",
       "      <td>STANDARD_ROOM</td>\n",
       "      <td>1</td>\n",
       "    </tr>\n",
       "    <tr>\n",
       "      <th>5</th>\n",
       "      <td>2020-11-09</td>\n",
       "      <td>2020-11-10</td>\n",
       "      <td>85.00</td>\n",
       "      <td>STUDIO</td>\n",
       "      <td>1</td>\n",
       "    </tr>\n",
       "    <tr>\n",
       "      <th>6</th>\n",
       "      <td>2020-11-09</td>\n",
       "      <td>2020-11-10</td>\n",
       "      <td>105.00</td>\n",
       "      <td>STANDARD_ROOM</td>\n",
       "      <td>1</td>\n",
       "    </tr>\n",
       "  </tbody>\n",
       "</table>\n",
       "</div>"
      ],
      "text/plain": [
       "  checkInDate checkOutDate TotalPrice       TypeRoom  Guests/room\n",
       "0  2020-11-09   2020-11-10      78.00  STANDARD_ROOM            1\n",
       "1  2020-11-09   2020-11-10     117.00  STANDARD_ROOM            1\n",
       "2  2020-11-09   2020-11-10      48.00  STANDARD_ROOM            1\n",
       "3  2020-11-09   2020-11-10      45.00   COMFORT_ROOM            1\n",
       "4  2020-11-09   2020-11-10      65.00  STANDARD_ROOM            1\n",
       "5  2020-11-09   2020-11-10      85.00         STUDIO            1\n",
       "6  2020-11-09   2020-11-10     105.00  STANDARD_ROOM            1"
      ]
     },
     "execution_count": 162,
     "metadata": {},
     "output_type": "execute_result"
    }
   ],
   "source": [
    "df_clean.columns = ['checkInDate', 'checkOutDate', 'TotalPrice', 'TypeRoom', 'Guests/room']\n",
    "df_clean"
   ]
  },
  {
   "cell_type": "code",
   "execution_count": 165,
   "metadata": {},
   "outputs": [],
   "source": [
    "# LA GUARDAMOS PARA PODER EXPORTAR NUESTRA TABLA CLEAN\n",
    "\n",
    "df_clean.to_csv('api_clean.csv')"
   ]
  },
  {
   "cell_type": "code",
   "execution_count": 164,
   "metadata": {},
   "outputs": [
    {
     "data": {
      "text/html": [
       "<div>\n",
       "<style scoped>\n",
       "    .dataframe tbody tr th:only-of-type {\n",
       "        vertical-align: middle;\n",
       "    }\n",
       "\n",
       "    .dataframe tbody tr th {\n",
       "        vertical-align: top;\n",
       "    }\n",
       "\n",
       "    .dataframe thead th {\n",
       "        text-align: right;\n",
       "    }\n",
       "</style>\n",
       "<table border=\"1\" class=\"dataframe\">\n",
       "  <thead>\n",
       "    <tr style=\"text-align: right;\">\n",
       "      <th></th>\n",
       "      <th>Unnamed: 0</th>\n",
       "      <th>checkInDate</th>\n",
       "      <th>checkOutDate</th>\n",
       "      <th>TotalPrice</th>\n",
       "      <th>TypeRoom</th>\n",
       "      <th>Guests/room</th>\n",
       "    </tr>\n",
       "  </thead>\n",
       "  <tbody>\n",
       "    <tr>\n",
       "      <th>0</th>\n",
       "      <td>0</td>\n",
       "      <td>2020-11-09</td>\n",
       "      <td>2020-11-10</td>\n",
       "      <td>78.0</td>\n",
       "      <td>STANDARD_ROOM</td>\n",
       "      <td>1</td>\n",
       "    </tr>\n",
       "    <tr>\n",
       "      <th>1</th>\n",
       "      <td>1</td>\n",
       "      <td>2020-11-09</td>\n",
       "      <td>2020-11-10</td>\n",
       "      <td>117.0</td>\n",
       "      <td>STANDARD_ROOM</td>\n",
       "      <td>1</td>\n",
       "    </tr>\n",
       "    <tr>\n",
       "      <th>2</th>\n",
       "      <td>2</td>\n",
       "      <td>2020-11-09</td>\n",
       "      <td>2020-11-10</td>\n",
       "      <td>48.0</td>\n",
       "      <td>STANDARD_ROOM</td>\n",
       "      <td>1</td>\n",
       "    </tr>\n",
       "    <tr>\n",
       "      <th>3</th>\n",
       "      <td>3</td>\n",
       "      <td>2020-11-09</td>\n",
       "      <td>2020-11-10</td>\n",
       "      <td>45.0</td>\n",
       "      <td>COMFORT_ROOM</td>\n",
       "      <td>1</td>\n",
       "    </tr>\n",
       "    <tr>\n",
       "      <th>4</th>\n",
       "      <td>4</td>\n",
       "      <td>2020-11-09</td>\n",
       "      <td>2020-11-10</td>\n",
       "      <td>65.0</td>\n",
       "      <td>STANDARD_ROOM</td>\n",
       "      <td>1</td>\n",
       "    </tr>\n",
       "    <tr>\n",
       "      <th>5</th>\n",
       "      <td>5</td>\n",
       "      <td>2020-11-09</td>\n",
       "      <td>2020-11-10</td>\n",
       "      <td>85.0</td>\n",
       "      <td>STUDIO</td>\n",
       "      <td>1</td>\n",
       "    </tr>\n",
       "    <tr>\n",
       "      <th>6</th>\n",
       "      <td>6</td>\n",
       "      <td>2020-11-09</td>\n",
       "      <td>2020-11-10</td>\n",
       "      <td>105.0</td>\n",
       "      <td>STANDARD_ROOM</td>\n",
       "      <td>1</td>\n",
       "    </tr>\n",
       "  </tbody>\n",
       "</table>\n",
       "</div>"
      ],
      "text/plain": [
       "   Unnamed: 0 checkInDate checkOutDate  TotalPrice       TypeRoom  Guests/room\n",
       "0           0  2020-11-09   2020-11-10        78.0  STANDARD_ROOM            1\n",
       "1           1  2020-11-09   2020-11-10       117.0  STANDARD_ROOM            1\n",
       "2           2  2020-11-09   2020-11-10        48.0  STANDARD_ROOM            1\n",
       "3           3  2020-11-09   2020-11-10        45.0   COMFORT_ROOM            1\n",
       "4           4  2020-11-09   2020-11-10        65.0  STANDARD_ROOM            1\n",
       "5           5  2020-11-09   2020-11-10        85.0         STUDIO            1\n",
       "6           6  2020-11-09   2020-11-10       105.0  STANDARD_ROOM            1"
      ]
     },
     "execution_count": 164,
     "metadata": {},
     "output_type": "execute_result"
    }
   ],
   "source": [
    "# DE PREUBA PARA VER QUE SE LEA LA TABLA\n",
    "\n",
    "#df_clean = pd.read_csv('api_clean.csv')\n",
    "#df_clean"
   ]
  },
  {
   "cell_type": "markdown",
   "metadata": {},
   "source": [
    "### PRECIO MEDIO OFERTAS OVTUBRE 2020"
   ]
  },
  {
   "cell_type": "code",
   "execution_count": 159,
   "metadata": {},
   "outputs": [
    {
     "data": {
      "text/plain": [
       "77.57142857142857"
      ]
     },
     "execution_count": 159,
     "metadata": {},
     "output_type": "execute_result"
    }
   ],
   "source": [
    "\n",
    "clean[\"TotalPrice\"] = clean[\"TotalPrice\"].astype(float)\n",
    "clean[\"TotalPrice\"]\n",
    "\n",
    "clean[\"TotalPrice\"].mean()"
   ]
  },
  {
   "cell_type": "markdown",
   "metadata": {},
   "source": [
    "* COMO PODEMOS OBSERVAR TODAS LAS OFERTAR DE HOTELES SE ENCUENTRAN ENTRE SEPTIEMBRE Y NOVIEMBRE\n",
    "* UNA RAZON PODRÍA SER PORQUE EL PERIDO VACACIONAL YA HA TERMINADO Y HAY MENOS TURISMO \n",
    "* PERO NOSOTROS VAMOS A INTENTAR BUSCAR UNA RAZON RELACIONADA A UNA DE LAS MAYORES COMPETENCIAS DE LOS HOTELES --> AIRBNB"
   ]
  },
  {
   "cell_type": "markdown",
   "metadata": {},
   "source": [
    "### LINKS UTILIZADOS PARA LA OBTENCIÓN Y LIMPIEZA DE LA API\n",
    "\n",
    "- Solicitación de la API: https://developers.amadeus.com/get-started/get-started-with-self-service-apis-335\n",
    "- Documentacion de la API: https://amadeus4dev.github.io/amadeus-python/index.html#shopping-hotels\n",
    "- Git Hub de apoyo y más documentación de la API: https://github.com/amadeus4dev/amadeus-python\n",
    "- Clases y apuntes utilizados para la ayuda de la limpieza de los datos de la API: https://github.com/leticia-sobrino/teaching-ironhack-data-madrid-2020"
   ]
  }
 ],
 "metadata": {
  "kernelspec": {
   "display_name": "Python 3",
   "language": "python",
   "name": "python3"
  },
  "language_info": {
   "codemirror_mode": {
    "name": "ipython",
    "version": 3
   },
   "file_extension": ".py",
   "mimetype": "text/x-python",
   "name": "python",
   "nbconvert_exporter": "python",
   "pygments_lexer": "ipython3",
   "version": "3.8.3"
  }
 },
 "nbformat": 4,
 "nbformat_minor": 4
}
