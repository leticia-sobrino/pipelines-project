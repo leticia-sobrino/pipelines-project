{
 "cells": [
  {
   "cell_type": "code",
   "execution_count": 5,
   "metadata": {},
   "outputs": [],
   "source": [
    "import os\n",
    "from dotenv import load_dotenv\n",
    "import json\n",
    "import requests\n",
    "import re\n",
    "load_dotenv()\n",
    "import pandas as pd"
   ]
  },
  {
   "cell_type": "code",
   "execution_count": 2,
   "metadata": {},
   "outputs": [
    {
     "name": "stdout",
     "output_type": "stream",
     "text": [
      "[400]\n",
      "\n"
     ]
    }
   ],
   "source": [
    "from amadeus import Client, ResponseError\n",
    "\n",
    "amadeus = Client(\n",
    "    client_id='EpkeaqoOnZoGGZTVTMn5T9h1tfDgLHVo',\n",
    "    client_secret='9A8LUOrsKaxJ9N7E'\n",
    ")\n",
    "\n",
    "try:\n",
    "    response = amadeus.shopping.flight_offers_search.get(\n",
    "        originLocationCode='SYD',\n",
    "        destinationLocationCode='BKK',\n",
    "        departureDate='2020-10-01',\n",
    "        adults=1)\n",
    "    print(response.data)\n",
    "except ResponseError as error:\n",
    "    print(error)"
   ]
  },
  {
   "cell_type": "markdown",
   "metadata": {},
   "source": [
    "### ¿MONTAÑA O PLAYA?"
   ]
  },
  {
   "cell_type": "code",
   "execution_count": 23,
   "metadata": {},
   "outputs": [
    {
     "data": {
      "text/plain": [
       "<amadeus.client.response.Response at 0x2a282eacd30>"
      ]
     },
     "execution_count": 23,
     "metadata": {},
     "output_type": "execute_result"
    }
   ],
   "source": [
    "mountain = amadeus.media.files.generated_photos.get(category= 'MOUNTAIN' )\n",
    "mountain"
   ]
  },
  {
   "cell_type": "code",
   "execution_count": 24,
   "metadata": {},
   "outputs": [
    {
     "data": {
      "text/plain": [
       "200"
      ]
     },
     "execution_count": 24,
     "metadata": {},
     "output_type": "execute_result"
    }
   ],
   "source": [
    "mountain.status_code"
   ]
  },
  {
   "cell_type": "code",
   "execution_count": 27,
   "metadata": {},
   "outputs": [
    {
     "data": {
      "text/html": [
       "<div>\n",
       "<style scoped>\n",
       "    .dataframe tbody tr th:only-of-type {\n",
       "        vertical-align: middle;\n",
       "    }\n",
       "\n",
       "    .dataframe tbody tr th {\n",
       "        vertical-align: top;\n",
       "    }\n",
       "\n",
       "    .dataframe thead th {\n",
       "        text-align: right;\n",
       "    }\n",
       "</style>\n",
       "<table border=\"1\" class=\"dataframe\">\n",
       "  <thead>\n",
       "    <tr style=\"text-align: right;\">\n",
       "      <th></th>\n",
       "      <th>self</th>\n",
       "      <th>type</th>\n",
       "      <th>attachmentUri</th>\n",
       "      <th>description</th>\n",
       "      <th>expirationDateTime</th>\n",
       "      <th>fileKbSize</th>\n",
       "      <th>mediaMetadata</th>\n",
       "    </tr>\n",
       "  </thead>\n",
       "  <tbody>\n",
       "    <tr>\n",
       "      <th>href</th>\n",
       "      <td>https://test.api.amadeus.com/v2/media/files/ge...</td>\n",
       "      <td>file</td>\n",
       "      <td>https://public-test-picador.1a-lab.net/d565fb1...</td>\n",
       "      <td>generated mountain landscape</td>\n",
       "      <td>2020-11-09T21:43:25Z</td>\n",
       "      <td>505</td>\n",
       "      <td>NaN</td>\n",
       "    </tr>\n",
       "    <tr>\n",
       "      <th>methods</th>\n",
       "      <td>[GET]</td>\n",
       "      <td>file</td>\n",
       "      <td>https://public-test-picador.1a-lab.net/d565fb1...</td>\n",
       "      <td>generated mountain landscape</td>\n",
       "      <td>2020-11-09T21:43:25Z</td>\n",
       "      <td>505</td>\n",
       "      <td>NaN</td>\n",
       "    </tr>\n",
       "    <tr>\n",
       "      <th>dimensions</th>\n",
       "      <td>NaN</td>\n",
       "      <td>file</td>\n",
       "      <td>https://public-test-picador.1a-lab.net/d565fb1...</td>\n",
       "      <td>generated mountain landscape</td>\n",
       "      <td>2020-11-09T21:43:25Z</td>\n",
       "      <td>505</td>\n",
       "      <td>{'UOM': 'Pixels', 'height': 512, 'width': 512}</td>\n",
       "    </tr>\n",
       "  </tbody>\n",
       "</table>\n",
       "</div>"
      ],
      "text/plain": [
       "                                                         self  type  \\\n",
       "href        https://test.api.amadeus.com/v2/media/files/ge...  file   \n",
       "methods                                                 [GET]  file   \n",
       "dimensions                                                NaN  file   \n",
       "\n",
       "                                                attachmentUri  \\\n",
       "href        https://public-test-picador.1a-lab.net/d565fb1...   \n",
       "methods     https://public-test-picador.1a-lab.net/d565fb1...   \n",
       "dimensions  https://public-test-picador.1a-lab.net/d565fb1...   \n",
       "\n",
       "                             description    expirationDateTime  fileKbSize  \\\n",
       "href        generated mountain landscape  2020-11-09T21:43:25Z         505   \n",
       "methods     generated mountain landscape  2020-11-09T21:43:25Z         505   \n",
       "dimensions  generated mountain landscape  2020-11-09T21:43:25Z         505   \n",
       "\n",
       "                                             mediaMetadata  \n",
       "href                                                   NaN  \n",
       "methods                                                NaN  \n",
       "dimensions  {'UOM': 'Pixels', 'height': 512, 'width': 512}  "
      ]
     },
     "execution_count": 27,
     "metadata": {},
     "output_type": "execute_result"
    }
   ],
   "source": [
    "df_mountain = pd.DataFrame(mountain.data)\n",
    "df_mountain"
   ]
  },
  {
   "cell_type": "markdown",
   "metadata": {},
   "source": [
    "### BUSCABA VUELOS A AUSTRALIA POR LO QUE ESTOS DATOS NO SIRVEN"
   ]
  },
  {
   "cell_type": "code",
   "execution_count": 45,
   "metadata": {},
   "outputs": [
    {
     "data": {
      "text/plain": [
       "<amadeus.client.response.Response at 0x2a2831a60d0>"
      ]
     },
     "execution_count": 45,
     "metadata": {},
     "output_type": "execute_result"
    }
   ],
   "source": [
    "australia = amadeus.travel.analytics.air_traffic.traveled.get(originCityCode='AUS', period='2018-01')\n",
    "australia"
   ]
  },
  {
   "cell_type": "code",
   "execution_count": 46,
   "metadata": {},
   "outputs": [
    {
     "data": {
      "text/html": [
       "<div>\n",
       "<style scoped>\n",
       "    .dataframe tbody tr th:only-of-type {\n",
       "        vertical-align: middle;\n",
       "    }\n",
       "\n",
       "    .dataframe tbody tr th {\n",
       "        vertical-align: top;\n",
       "    }\n",
       "\n",
       "    .dataframe thead th {\n",
       "        text-align: right;\n",
       "    }\n",
       "</style>\n",
       "<table border=\"1\" class=\"dataframe\">\n",
       "  <thead>\n",
       "    <tr style=\"text-align: right;\">\n",
       "      <th></th>\n",
       "      <th>type</th>\n",
       "      <th>destination</th>\n",
       "      <th>subType</th>\n",
       "      <th>analytics</th>\n",
       "    </tr>\n",
       "  </thead>\n",
       "  <tbody>\n",
       "    <tr>\n",
       "      <th>0</th>\n",
       "      <td>air-traffic</td>\n",
       "      <td>DEN</td>\n",
       "      <td>TRAVELED</td>\n",
       "      <td>{'flights': {'score': 64}, 'travelers': {'scor...</td>\n",
       "    </tr>\n",
       "    <tr>\n",
       "      <th>1</th>\n",
       "      <td>air-traffic</td>\n",
       "      <td>SFO</td>\n",
       "      <td>TRAVELED</td>\n",
       "      <td>{'flights': {'score': 100}, 'travelers': {'sco...</td>\n",
       "    </tr>\n",
       "    <tr>\n",
       "      <th>2</th>\n",
       "      <td>air-traffic</td>\n",
       "      <td>SEA</td>\n",
       "      <td>TRAVELED</td>\n",
       "      <td>{'flights': {'score': 25}, 'travelers': {'scor...</td>\n",
       "    </tr>\n",
       "    <tr>\n",
       "      <th>3</th>\n",
       "      <td>air-traffic</td>\n",
       "      <td>FRA</td>\n",
       "      <td>TRAVELED</td>\n",
       "      <td>{'flights': {'score': 34}, 'travelers': {'scor...</td>\n",
       "    </tr>\n",
       "    <tr>\n",
       "      <th>4</th>\n",
       "      <td>air-traffic</td>\n",
       "      <td>CUN</td>\n",
       "      <td>TRAVELED</td>\n",
       "      <td>{'flights': {'score': 12}, 'travelers': {'scor...</td>\n",
       "    </tr>\n",
       "    <tr>\n",
       "      <th>5</th>\n",
       "      <td>air-traffic</td>\n",
       "      <td>SJO</td>\n",
       "      <td>TRAVELED</td>\n",
       "      <td>{'flights': {'score': 16}, 'travelers': {'scor...</td>\n",
       "    </tr>\n",
       "    <tr>\n",
       "      <th>6</th>\n",
       "      <td>air-traffic</td>\n",
       "      <td>MAA</td>\n",
       "      <td>TRAVELED</td>\n",
       "      <td>{'flights': {'score': 13}, 'travelers': {'scor...</td>\n",
       "    </tr>\n",
       "    <tr>\n",
       "      <th>7</th>\n",
       "      <td>air-traffic</td>\n",
       "      <td>LIM</td>\n",
       "      <td>TRAVELED</td>\n",
       "      <td>{'flights': {'score': 1}, 'travelers': {'score...</td>\n",
       "    </tr>\n",
       "  </tbody>\n",
       "</table>\n",
       "</div>"
      ],
      "text/plain": [
       "          type destination   subType  \\\n",
       "0  air-traffic         DEN  TRAVELED   \n",
       "1  air-traffic         SFO  TRAVELED   \n",
       "2  air-traffic         SEA  TRAVELED   \n",
       "3  air-traffic         FRA  TRAVELED   \n",
       "4  air-traffic         CUN  TRAVELED   \n",
       "5  air-traffic         SJO  TRAVELED   \n",
       "6  air-traffic         MAA  TRAVELED   \n",
       "7  air-traffic         LIM  TRAVELED   \n",
       "\n",
       "                                           analytics  \n",
       "0  {'flights': {'score': 64}, 'travelers': {'scor...  \n",
       "1  {'flights': {'score': 100}, 'travelers': {'sco...  \n",
       "2  {'flights': {'score': 25}, 'travelers': {'scor...  \n",
       "3  {'flights': {'score': 34}, 'travelers': {'scor...  \n",
       "4  {'flights': {'score': 12}, 'travelers': {'scor...  \n",
       "5  {'flights': {'score': 16}, 'travelers': {'scor...  \n",
       "6  {'flights': {'score': 13}, 'travelers': {'scor...  \n",
       "7  {'flights': {'score': 1}, 'travelers': {'score...  "
      ]
     },
     "execution_count": 46,
     "metadata": {},
     "output_type": "execute_result"
    }
   ],
   "source": [
    "df_australia = pd.DataFrame(australia.data)\n",
    "df_australia"
   ]
  },
  {
   "cell_type": "code",
   "execution_count": 47,
   "metadata": {},
   "outputs": [
    {
     "data": {
      "text/plain": [
       "0    {'flights': {'score': 64}, 'travelers': {'scor...\n",
       "1    {'flights': {'score': 100}, 'travelers': {'sco...\n",
       "2    {'flights': {'score': 25}, 'travelers': {'scor...\n",
       "3    {'flights': {'score': 34}, 'travelers': {'scor...\n",
       "4    {'flights': {'score': 12}, 'travelers': {'scor...\n",
       "5    {'flights': {'score': 16}, 'travelers': {'scor...\n",
       "6    {'flights': {'score': 13}, 'travelers': {'scor...\n",
       "7    {'flights': {'score': 1}, 'travelers': {'score...\n",
       "Name: analytics, dtype: object"
      ]
     },
     "execution_count": 47,
     "metadata": {},
     "output_type": "execute_result"
    }
   ],
   "source": [
    "df_australia.analytics"
   ]
  },
  {
   "cell_type": "markdown",
   "metadata": {},
   "source": [
    "### OFERTA DE HOTLES EN AUSTRALIA"
   ]
  },
  {
   "cell_type": "code",
   "execution_count": 50,
   "metadata": {},
   "outputs": [
    {
     "data": {
      "text/plain": [
       "<amadeus.client.response.Response at 0x2a2830b8c10>"
      ]
     },
     "execution_count": 50,
     "metadata": {},
     "output_type": "execute_result"
    }
   ],
   "source": [
    "hotel_offers = amadeus.shopping.hotel_offers.get(cityCode='AUS')\n",
    "hotel_offers"
   ]
  },
  {
   "cell_type": "code",
   "execution_count": 51,
   "metadata": {},
   "outputs": [
    {
     "data": {
      "text/html": [
       "<div>\n",
       "<style scoped>\n",
       "    .dataframe tbody tr th:only-of-type {\n",
       "        vertical-align: middle;\n",
       "    }\n",
       "\n",
       "    .dataframe tbody tr th {\n",
       "        vertical-align: top;\n",
       "    }\n",
       "\n",
       "    .dataframe thead th {\n",
       "        text-align: right;\n",
       "    }\n",
       "</style>\n",
       "<table border=\"1\" class=\"dataframe\">\n",
       "  <thead>\n",
       "    <tr style=\"text-align: right;\">\n",
       "      <th></th>\n",
       "      <th>type</th>\n",
       "      <th>hotel</th>\n",
       "      <th>available</th>\n",
       "      <th>offers</th>\n",
       "      <th>self</th>\n",
       "    </tr>\n",
       "  </thead>\n",
       "  <tbody>\n",
       "    <tr>\n",
       "      <th>0</th>\n",
       "      <td>hotel-offers</td>\n",
       "      <td>{'type': 'hotel', 'hotelId': 'ICAUSICA', 'chai...</td>\n",
       "      <td>True</td>\n",
       "      <td>[{'id': 'I7XJQJ9JS7', 'checkInDate': '2020-11-...</td>\n",
       "      <td>https://test.api.amadeus.com/v2/shopping/hotel...</td>\n",
       "    </tr>\n",
       "    <tr>\n",
       "      <th>1</th>\n",
       "      <td>hotel-offers</td>\n",
       "      <td>{'type': 'hotel', 'hotelId': 'WIAUS899', 'chai...</td>\n",
       "      <td>True</td>\n",
       "      <td>[{'id': 'T4EXPE5I2J', 'checkInDate': '2020-11-...</td>\n",
       "      <td>https://test.api.amadeus.com/v2/shopping/hotel...</td>\n",
       "    </tr>\n",
       "    <tr>\n",
       "      <th>2</th>\n",
       "      <td>hotel-offers</td>\n",
       "      <td>{'type': 'hotel', 'hotelId': 'RCAUSRDR', 'chai...</td>\n",
       "      <td>True</td>\n",
       "      <td>[{'id': 'DN7P5IHJEO', 'checkInDate': '2020-11-...</td>\n",
       "      <td>https://test.api.amadeus.com/v2/shopping/hotel...</td>\n",
       "    </tr>\n",
       "    <tr>\n",
       "      <th>3</th>\n",
       "      <td>hotel-offers</td>\n",
       "      <td>{'type': 'hotel', 'hotelId': 'OMAUSCTR', 'chai...</td>\n",
       "      <td>True</td>\n",
       "      <td>[{'id': 'TCB6WHPL1H', 'checkInDate': '2020-11-...</td>\n",
       "      <td>https://test.api.amadeus.com/v2/shopping/hotel...</td>\n",
       "    </tr>\n",
       "    <tr>\n",
       "      <th>4</th>\n",
       "      <td>hotel-offers</td>\n",
       "      <td>{'type': 'hotel', 'hotelId': 'EAAUS109', 'chai...</td>\n",
       "      <td>True</td>\n",
       "      <td>[{'id': 'SU1M761COJ', 'checkInDate': '2020-11-...</td>\n",
       "      <td>https://test.api.amadeus.com/v2/shopping/hotel...</td>\n",
       "    </tr>\n",
       "    <tr>\n",
       "      <th>5</th>\n",
       "      <td>hotel-offers</td>\n",
       "      <td>{'type': 'hotel', 'hotelId': 'WHAUS224', 'chai...</td>\n",
       "      <td>True</td>\n",
       "      <td>[{'id': 'VI6I7SG5BB', 'checkInDate': '2020-11-...</td>\n",
       "      <td>https://test.api.amadeus.com/v2/shopping/hotel...</td>\n",
       "    </tr>\n",
       "    <tr>\n",
       "      <th>6</th>\n",
       "      <td>hotel-offers</td>\n",
       "      <td>{'type': 'hotel', 'hotelId': 'SIAUS079', 'chai...</td>\n",
       "      <td>True</td>\n",
       "      <td>[{'id': 'TKNLRZ2WL3', 'checkInDate': '2020-11-...</td>\n",
       "      <td>https://test.api.amadeus.com/v2/shopping/hotel...</td>\n",
       "    </tr>\n",
       "    <tr>\n",
       "      <th>7</th>\n",
       "      <td>hotel-offers</td>\n",
       "      <td>{'type': 'hotel', 'hotelId': 'HIAUS211', 'chai...</td>\n",
       "      <td>True</td>\n",
       "      <td>[{'id': 'ETDVGK2XW6', 'checkInDate': '2020-11-...</td>\n",
       "      <td>https://test.api.amadeus.com/v2/shopping/hotel...</td>\n",
       "    </tr>\n",
       "  </tbody>\n",
       "</table>\n",
       "</div>"
      ],
      "text/plain": [
       "           type                                              hotel  available  \\\n",
       "0  hotel-offers  {'type': 'hotel', 'hotelId': 'ICAUSICA', 'chai...       True   \n",
       "1  hotel-offers  {'type': 'hotel', 'hotelId': 'WIAUS899', 'chai...       True   \n",
       "2  hotel-offers  {'type': 'hotel', 'hotelId': 'RCAUSRDR', 'chai...       True   \n",
       "3  hotel-offers  {'type': 'hotel', 'hotelId': 'OMAUSCTR', 'chai...       True   \n",
       "4  hotel-offers  {'type': 'hotel', 'hotelId': 'EAAUS109', 'chai...       True   \n",
       "5  hotel-offers  {'type': 'hotel', 'hotelId': 'WHAUS224', 'chai...       True   \n",
       "6  hotel-offers  {'type': 'hotel', 'hotelId': 'SIAUS079', 'chai...       True   \n",
       "7  hotel-offers  {'type': 'hotel', 'hotelId': 'HIAUS211', 'chai...       True   \n",
       "\n",
       "                                              offers  \\\n",
       "0  [{'id': 'I7XJQJ9JS7', 'checkInDate': '2020-11-...   \n",
       "1  [{'id': 'T4EXPE5I2J', 'checkInDate': '2020-11-...   \n",
       "2  [{'id': 'DN7P5IHJEO', 'checkInDate': '2020-11-...   \n",
       "3  [{'id': 'TCB6WHPL1H', 'checkInDate': '2020-11-...   \n",
       "4  [{'id': 'SU1M761COJ', 'checkInDate': '2020-11-...   \n",
       "5  [{'id': 'VI6I7SG5BB', 'checkInDate': '2020-11-...   \n",
       "6  [{'id': 'TKNLRZ2WL3', 'checkInDate': '2020-11-...   \n",
       "7  [{'id': 'ETDVGK2XW6', 'checkInDate': '2020-11-...   \n",
       "\n",
       "                                                self  \n",
       "0  https://test.api.amadeus.com/v2/shopping/hotel...  \n",
       "1  https://test.api.amadeus.com/v2/shopping/hotel...  \n",
       "2  https://test.api.amadeus.com/v2/shopping/hotel...  \n",
       "3  https://test.api.amadeus.com/v2/shopping/hotel...  \n",
       "4  https://test.api.amadeus.com/v2/shopping/hotel...  \n",
       "5  https://test.api.amadeus.com/v2/shopping/hotel...  \n",
       "6  https://test.api.amadeus.com/v2/shopping/hotel...  \n",
       "7  https://test.api.amadeus.com/v2/shopping/hotel...  "
      ]
     },
     "execution_count": 51,
     "metadata": {},
     "output_type": "execute_result"
    }
   ],
   "source": [
    "df_hotel_offers = pd.DataFrame(hotel_offers.data)\n",
    "df_hotel_offers"
   ]
  },
  {
   "cell_type": "code",
   "execution_count": 53,
   "metadata": {},
   "outputs": [
    {
     "data": {
      "text/plain": [
       "pandas.core.series.Series"
      ]
     },
     "execution_count": 53,
     "metadata": {},
     "output_type": "execute_result"
    }
   ],
   "source": [
    "type(df_hotel_offers.offers)"
   ]
  },
  {
   "cell_type": "code",
   "execution_count": 114,
   "metadata": {},
   "outputs": [
    {
     "data": {
      "text/plain": [
       "[[{'id': 'I7XJQJ9JS7',\n",
       "   'checkInDate': '2020-11-08',\n",
       "   'checkOutDate': '2020-11-09',\n",
       "   'rateCode': 'U9A',\n",
       "   'rateFamilyEstimated': {'code': 'GOV', 'type': 'C'},\n",
       "   'room': {'type': '*1Q',\n",
       "    'typeEstimated': {'category': 'STANDARD_ROOM',\n",
       "     'beds': 1,\n",
       "     'bedType': 'QUEEN'},\n",
       "    'description': {'text': 'GOVERNMENT RATE AVAILABLE FOR US FEDERAL GOVERNMENT EMPLOYEES WITH VALID ID IF NO VALID TRADITIONAL 1 QUEEN QUEEN SIZE PILLOW TOP BED  '}},\n",
       "   'guests': {'adults': 1},\n",
       "   'price': {'currency': 'USD',\n",
       "    'base': '140.00',\n",
       "    'total': '163.80',\n",
       "    'variations': {'average': {'base': '140.00'},\n",
       "     'changes': [{'startDate': '2020-11-08',\n",
       "       'endDate': '2020-11-09',\n",
       "       'base': '140.00'}]}},\n",
       "   'policies': {'guarantee': {'acceptedPayments': {'creditCards': ['AX',\n",
       "       'VI',\n",
       "       'CA',\n",
       "       'DC',\n",
       "       'CB',\n",
       "       'JC',\n",
       "       'DS'],\n",
       "      'methods': ['CREDIT_CARD']}},\n",
       "    'paymentType': 'guarantee',\n",
       "    'cancellation': {'numberOfNights': 1,\n",
       "     'deadline': '2020-11-08T18:00:00-06:00'}}}],\n",
       " [{'id': 'T4EXPE5I2J',\n",
       "   'checkInDate': '2020-11-08',\n",
       "   'checkOutDate': '2020-11-09',\n",
       "   'rateCode': 'S9R',\n",
       "   'rateFamilyEstimated': {'code': 'SRS', 'type': 'C'},\n",
       "   'room': {'type': 'XMI',\n",
       "    'typeEstimated': {'category': 'STANDARD_ROOM',\n",
       "     'beds': 2,\n",
       "     'bedType': 'QUEEN'},\n",
       "    'description': {'text': 'Marriott Senior Discount, includes 62 years and older valid ID  Two Queen Guest Room, 2 Queen, Mini fridge, 350 sqft/32sqm, Wireless internet, for a fee, Wired'}},\n",
       "   'guests': {'adults': 1},\n",
       "   'price': {'currency': 'USD',\n",
       "    'base': '161.00',\n",
       "    'total': '189.36',\n",
       "    'variations': {'average': {'base': '161.00'},\n",
       "     'changes': [{'startDate': '2020-11-08',\n",
       "       'endDate': '2020-11-09',\n",
       "       'base': '161.00'}]}},\n",
       "   'policies': {'paymentType': 'guarantee',\n",
       "    'cancellation': {'deadline': '2020-11-07T23:59:00-06:00'}}}],\n",
       " [{'id': 'DN7P5IHJEO',\n",
       "   'checkInDate': '2020-11-08',\n",
       "   'checkOutDate': '2020-11-09',\n",
       "   'rateCode': 'S9R',\n",
       "   'rateFamilyEstimated': {'code': 'SRS', 'type': 'C'},\n",
       "   'room': {'type': 'XMI',\n",
       "    'typeEstimated': {'category': 'STANDARD_ROOM',\n",
       "     'beds': 1,\n",
       "     'bedType': 'QUEEN'},\n",
       "    'description': {'text': 'Marriott Senior Discount, includes 62 years and older valid ID  1 Queen, Sofa bed, Microwave, 424sqft/38sqm, Li ving/sitting area, Dining area, Wireless intern'}},\n",
       "   'guests': {'adults': 1},\n",
       "   'price': {'currency': 'USD',\n",
       "    'base': '118.00',\n",
       "    'total': '138.78',\n",
       "    'variations': {'average': {'base': '118.00'},\n",
       "     'changes': [{'startDate': '2020-11-08',\n",
       "       'endDate': '2020-11-09',\n",
       "       'base': '118.00'}]}},\n",
       "   'policies': {'paymentType': 'guarantee',\n",
       "    'cancellation': {'numberOfNights': 1,\n",
       "     'deadline': '2020-11-06T23:59:00-06:00'}}}],\n",
       " [{'id': 'TCB6WHPL1H',\n",
       "   'checkInDate': '2020-11-08',\n",
       "   'checkOutDate': '2020-11-09',\n",
       "   'rateCode': 'DBR',\n",
       "   'rateFamilyEstimated': {'code': 'BAR', 'type': 'P'},\n",
       "   'commission': {'percentage': '10.00'},\n",
       "   'room': {'type': 'DKR',\n",
       "    'typeEstimated': {'category': 'ACCESSIBLE_ROOM',\n",
       "     'beds': 1,\n",
       "     'bedType': 'KING'},\n",
       "    'description': {'text': 'Daily Flexible Rate ACCESSIBLE DELUXE W ROLL IN SHOWER 1 KING BED FULL FEATURES AVAIL BY CALLING 800 THE OMNI'}},\n",
       "   'guests': {'adults': 1},\n",
       "   'price': {'currency': 'USD',\n",
       "    'base': '119.00',\n",
       "    'total': '139.23',\n",
       "    'variations': {'average': {'base': '119.00'},\n",
       "     'changes': [{'startDate': '2020-11-08',\n",
       "       'endDate': '2020-11-09',\n",
       "       'base': '119.00'}]}},\n",
       "   'policies': {'paymentType': 'guarantee',\n",
       "    'cancellation': {'deadline': '2020-11-07T12:00:00-06:00'}}}],\n",
       " [{'id': 'SU1M761COJ',\n",
       "   'checkInDate': '2020-11-08',\n",
       "   'checkOutDate': '2020-11-09',\n",
       "   'rateCode': 'RAC',\n",
       "   'room': {'type': 'A07',\n",
       "    'typeEstimated': {'category': 'STUDIO', 'beds': 1, 'bedType': 'QUEEN'},\n",
       "    'description': {'text': 'NIGHTLY VALUE RATE STANDARD STUDIO 1 QUEEN BED NONSMKNG FREE WIFI AND GRAB AND GO BKFST 32IN LCD TV'}},\n",
       "   'guests': {'adults': 1},\n",
       "   'price': {'currency': 'USD',\n",
       "    'base': '139.99',\n",
       "    'total': '160.99',\n",
       "    'variations': {'average': {'base': '139.99'},\n",
       "     'changes': [{'startDate': '2020-11-08',\n",
       "       'endDate': '2020-11-09',\n",
       "       'base': '139.99'}]}},\n",
       "   'policies': {'paymentType': 'guarantee',\n",
       "    'cancellation': {'deadline': '2020-11-08T18:00:00-06:00'}}}],\n",
       " [{'id': 'VI6I7SG5BB',\n",
       "   'checkInDate': '2020-11-08',\n",
       "   'checkOutDate': '2020-11-09',\n",
       "   'rateCode': 'S9R',\n",
       "   'rateFamilyEstimated': {'code': 'SRS', 'type': 'C'},\n",
       "   'room': {'type': 'XMI',\n",
       "    'typeEstimated': {'category': 'STANDARD_ROOM',\n",
       "     'beds': 1,\n",
       "     'bedType': 'QUEEN'},\n",
       "    'description': {'text': 'Marriott Senior Discount, includes 62 years and older valid ID  Cozy Queen Room, 1 Queen, Wireless internet, fo r a fee, Wired internet, for a fee, Coffee/tea '}},\n",
       "   'guests': {'adults': 1},\n",
       "   'price': {'currency': 'USD',\n",
       "    'base': '347.65',\n",
       "    'total': '406.75',\n",
       "    'variations': {'average': {'base': '347.65'},\n",
       "     'changes': [{'startDate': '2020-11-08',\n",
       "       'endDate': '2020-11-09',\n",
       "       'base': '347.65'}]}},\n",
       "   'policies': {'paymentType': 'guarantee',\n",
       "    'cancellation': {'deadline': '2020-11-07T23:59:00-06:00'}}}],\n",
       " [{'id': 'TKNLRZ2WL3',\n",
       "   'checkInDate': '2020-11-08',\n",
       "   'checkOutDate': '2020-11-09',\n",
       "   'rateCode': 'RAC',\n",
       "   'rateFamilyEstimated': {'code': 'BAR', 'type': 'P'},\n",
       "   'room': {'type': 'REG',\n",
       "    'typeEstimated': {'category': 'STANDARD_ROOM',\n",
       "     'beds': 2,\n",
       "     'bedType': 'DOUBLE'},\n",
       "    'description': {'text': 'Flexible Rate Traditional Guest Room, 2 Double, Mini fridge,  275sqft/25sqm, Wireless internet, for a fee, Wi'}},\n",
       "   'guests': {'adults': 1},\n",
       "   'price': {'currency': 'USD',\n",
       "    'base': '159.00',\n",
       "    'total': '191.79',\n",
       "    'variations': {'average': {'base': '159.00'},\n",
       "     'changes': [{'startDate': '2020-11-08',\n",
       "       'endDate': '2020-11-09',\n",
       "       'base': '159.00'}]}},\n",
       "   'policies': {'paymentType': 'guarantee'}}],\n",
       " [{'id': 'ETDVGK2XW6',\n",
       "   'checkInDate': '2020-11-08',\n",
       "   'checkOutDate': '2020-11-09',\n",
       "   'rateCode': '22A',\n",
       "   'rateFamilyEstimated': {'code': 'BAR', 'type': 'P'},\n",
       "   'room': {'type': '*1K',\n",
       "    'typeEstimated': {'category': 'STANDARD_ROOM',\n",
       "     'beds': 1,\n",
       "     'bedType': 'KING'},\n",
       "    'description': {'text': 'BEST FLEXIBLE RATE 1 King Standard 315 sq/ft space to work or just relax where you can get a great night of sleep'}},\n",
       "   'guests': {'adults': 1},\n",
       "   'price': {'currency': 'USD',\n",
       "    'base': '129.00',\n",
       "    'total': '150.93',\n",
       "    'variations': {'average': {'base': '129.00'},\n",
       "     'changes': [{'startDate': '2020-11-08',\n",
       "       'endDate': '2020-11-09',\n",
       "       'base': '129.00'}]}},\n",
       "   'policies': {'guarantee': {'acceptedPayments': {'creditCards': ['AX',\n",
       "       'VI',\n",
       "       'CA',\n",
       "       'DC',\n",
       "       'CB',\n",
       "       'JC',\n",
       "       'DS'],\n",
       "      'methods': ['CREDIT_CARD']}},\n",
       "    'paymentType': 'guarantee',\n",
       "    'cancellation': {'numberOfNights': 1,\n",
       "     'deadline': '2020-11-08T18:00:00-06:00'}}}]]"
      ]
     },
     "execution_count": 114,
     "metadata": {},
     "output_type": "execute_result"
    }
   ],
   "source": [
    "hotel_offers = list(df_hotel_offers.offers)\n",
    "hotel_offers"
   ]
  },
  {
   "cell_type": "code",
   "execution_count": 115,
   "metadata": {},
   "outputs": [
    {
     "data": {
      "text/plain": [
       "8"
      ]
     },
     "execution_count": 115,
     "metadata": {},
     "output_type": "execute_result"
    }
   ],
   "source": [
    "len(hotel_offers)"
   ]
  },
  {
   "cell_type": "code",
   "execution_count": 82,
   "metadata": {},
   "outputs": [
    {
     "data": {
      "text/plain": [
       "pandas.core.series.Series"
      ]
     },
     "execution_count": 82,
     "metadata": {},
     "output_type": "execute_result"
    }
   ],
   "source": [
    "type(df_hotel_offers.offers)"
   ]
  },
  {
   "cell_type": "code",
   "execution_count": 59,
   "metadata": {},
   "outputs": [
    {
     "data": {
      "text/plain": [
       "[{'id': 'I7XJQJ9JS7',\n",
       "  'checkInDate': '2020-11-08',\n",
       "  'checkOutDate': '2020-11-09',\n",
       "  'rateCode': 'U9A',\n",
       "  'rateFamilyEstimated': {'code': 'GOV', 'type': 'C'},\n",
       "  'room': {'type': '*1Q',\n",
       "   'typeEstimated': {'category': 'STANDARD_ROOM',\n",
       "    'beds': 1,\n",
       "    'bedType': 'QUEEN'},\n",
       "   'description': {'text': 'GOVERNMENT RATE AVAILABLE FOR US FEDERAL GOVERNMENT EMPLOYEES WITH VALID ID IF NO VALID TRADITIONAL 1 QUEEN QUEEN SIZE PILLOW TOP BED  '}},\n",
       "  'guests': {'adults': 1},\n",
       "  'price': {'currency': 'USD',\n",
       "   'base': '140.00',\n",
       "   'total': '163.80',\n",
       "   'variations': {'average': {'base': '140.00'},\n",
       "    'changes': [{'startDate': '2020-11-08',\n",
       "      'endDate': '2020-11-09',\n",
       "      'base': '140.00'}]}},\n",
       "  'policies': {'guarantee': {'acceptedPayments': {'creditCards': ['AX',\n",
       "      'VI',\n",
       "      'CA',\n",
       "      'DC',\n",
       "      'CB',\n",
       "      'JC',\n",
       "      'DS'],\n",
       "     'methods': ['CREDIT_CARD']}},\n",
       "   'paymentType': 'guarantee',\n",
       "   'cancellation': {'numberOfNights': 1,\n",
       "    'deadline': '2020-11-08T18:00:00-06:00'}}}]"
      ]
     },
     "execution_count": 59,
     "metadata": {},
     "output_type": "execute_result"
    }
   ],
   "source": [
    "offer1 = list(df_hotel_offers.offers)[0]\n",
    "offer1"
   ]
  },
  {
   "cell_type": "code",
   "execution_count": 65,
   "metadata": {
    "scrolled": true
   },
   "outputs": [
    {
     "data": {
      "text/plain": [
       "{'id': 'I7XJQJ9JS7',\n",
       " 'checkInDate': '2020-11-08',\n",
       " 'checkOutDate': '2020-11-09',\n",
       " 'rateCode': 'U9A',\n",
       " 'rateFamilyEstimated': {'code': 'GOV', 'type': 'C'},\n",
       " 'room': {'type': '*1Q',\n",
       "  'typeEstimated': {'category': 'STANDARD_ROOM',\n",
       "   'beds': 1,\n",
       "   'bedType': 'QUEEN'},\n",
       "  'description': {'text': 'GOVERNMENT RATE AVAILABLE FOR US FEDERAL GOVERNMENT EMPLOYEES WITH VALID ID IF NO VALID TRADITIONAL 1 QUEEN QUEEN SIZE PILLOW TOP BED  '}},\n",
       " 'guests': {'adults': 1},\n",
       " 'price': {'currency': 'USD',\n",
       "  'base': '140.00',\n",
       "  'total': '163.80',\n",
       "  'variations': {'average': {'base': '140.00'},\n",
       "   'changes': [{'startDate': '2020-11-08',\n",
       "     'endDate': '2020-11-09',\n",
       "     'base': '140.00'}]}},\n",
       " 'policies': {'guarantee': {'acceptedPayments': {'creditCards': ['AX',\n",
       "     'VI',\n",
       "     'CA',\n",
       "     'DC',\n",
       "     'CB',\n",
       "     'JC',\n",
       "     'DS'],\n",
       "    'methods': ['CREDIT_CARD']}},\n",
       "  'paymentType': 'guarantee',\n",
       "  'cancellation': {'numberOfNights': 1,\n",
       "   'deadline': '2020-11-08T18:00:00-06:00'}}}"
      ]
     },
     "execution_count": 65,
     "metadata": {},
     "output_type": "execute_result"
    }
   ],
   "source": [
    "offer1_1 = list(offer1)[0]\n",
    "offer1_1"
   ]
  },
  {
   "cell_type": "code",
   "execution_count": 68,
   "metadata": {},
   "outputs": [
    {
     "data": {
      "text/plain": [
       "9"
      ]
     },
     "execution_count": 68,
     "metadata": {},
     "output_type": "execute_result"
    }
   ],
   "source": [
    "len(offer1_1)"
   ]
  },
  {
   "cell_type": "code",
   "execution_count": 71,
   "metadata": {},
   "outputs": [
    {
     "data": {
      "text/plain": [
       "dict"
      ]
     },
     "execution_count": 71,
     "metadata": {},
     "output_type": "execute_result"
    }
   ],
   "source": [
    "type(offer1_1)"
   ]
  },
  {
   "cell_type": "code",
   "execution_count": 73,
   "metadata": {},
   "outputs": [
    {
     "data": {
      "text/plain": [
       "dict_keys(['id', 'checkInDate', 'checkOutDate', 'rateCode', 'rateFamilyEstimated', 'room', 'guests', 'price', 'policies'])"
      ]
     },
     "execution_count": 73,
     "metadata": {},
     "output_type": "execute_result"
    }
   ],
   "source": [
    "offer1_1.keys()"
   ]
  },
  {
   "cell_type": "code",
   "execution_count": 76,
   "metadata": {},
   "outputs": [
    {
     "data": {
      "text/plain": [
       "'2020-11-08'"
      ]
     },
     "execution_count": 76,
     "metadata": {},
     "output_type": "execute_result"
    }
   ],
   "source": [
    "offer1_1.get(\"checkInDate\")"
   ]
  },
  {
   "cell_type": "code",
   "execution_count": 113,
   "metadata": {},
   "outputs": [
    {
     "data": {
      "text/html": [
       "<div>\n",
       "<style scoped>\n",
       "    .dataframe tbody tr th:only-of-type {\n",
       "        vertical-align: middle;\n",
       "    }\n",
       "\n",
       "    .dataframe tbody tr th {\n",
       "        vertical-align: top;\n",
       "    }\n",
       "\n",
       "    .dataframe thead th {\n",
       "        text-align: right;\n",
       "    }\n",
       "</style>\n",
       "<table border=\"1\" class=\"dataframe\">\n",
       "  <thead>\n",
       "    <tr style=\"text-align: right;\">\n",
       "      <th></th>\n",
       "      <th>id</th>\n",
       "      <th>checkInDate</th>\n",
       "      <th>checkOutDate</th>\n",
       "      <th>rateCode</th>\n",
       "      <th>rateFamilyEstimated</th>\n",
       "      <th>room</th>\n",
       "      <th>guests</th>\n",
       "      <th>price</th>\n",
       "      <th>policies</th>\n",
       "    </tr>\n",
       "  </thead>\n",
       "  <tbody>\n",
       "    <tr>\n",
       "      <th>code</th>\n",
       "      <td>I7XJQJ9JS7</td>\n",
       "      <td>2020-11-08</td>\n",
       "      <td>2020-11-09</td>\n",
       "      <td>U9A</td>\n",
       "      <td>GOV</td>\n",
       "      <td>NaN</td>\n",
       "      <td>NaN</td>\n",
       "      <td>NaN</td>\n",
       "      <td>NaN</td>\n",
       "    </tr>\n",
       "    <tr>\n",
       "      <th>type</th>\n",
       "      <td>I7XJQJ9JS7</td>\n",
       "      <td>2020-11-08</td>\n",
       "      <td>2020-11-09</td>\n",
       "      <td>U9A</td>\n",
       "      <td>C</td>\n",
       "      <td>*1Q</td>\n",
       "      <td>NaN</td>\n",
       "      <td>NaN</td>\n",
       "      <td>NaN</td>\n",
       "    </tr>\n",
       "    <tr>\n",
       "      <th>typeEstimated</th>\n",
       "      <td>I7XJQJ9JS7</td>\n",
       "      <td>2020-11-08</td>\n",
       "      <td>2020-11-09</td>\n",
       "      <td>U9A</td>\n",
       "      <td>NaN</td>\n",
       "      <td>{'category': 'STANDARD_ROOM', 'beds': 1, 'bedT...</td>\n",
       "      <td>NaN</td>\n",
       "      <td>NaN</td>\n",
       "      <td>NaN</td>\n",
       "    </tr>\n",
       "    <tr>\n",
       "      <th>description</th>\n",
       "      <td>I7XJQJ9JS7</td>\n",
       "      <td>2020-11-08</td>\n",
       "      <td>2020-11-09</td>\n",
       "      <td>U9A</td>\n",
       "      <td>NaN</td>\n",
       "      <td>{'text': 'GOVERNMENT RATE AVAILABLE FOR US FED...</td>\n",
       "      <td>NaN</td>\n",
       "      <td>NaN</td>\n",
       "      <td>NaN</td>\n",
       "    </tr>\n",
       "    <tr>\n",
       "      <th>adults</th>\n",
       "      <td>I7XJQJ9JS7</td>\n",
       "      <td>2020-11-08</td>\n",
       "      <td>2020-11-09</td>\n",
       "      <td>U9A</td>\n",
       "      <td>NaN</td>\n",
       "      <td>NaN</td>\n",
       "      <td>1.0</td>\n",
       "      <td>NaN</td>\n",
       "      <td>NaN</td>\n",
       "    </tr>\n",
       "    <tr>\n",
       "      <th>currency</th>\n",
       "      <td>I7XJQJ9JS7</td>\n",
       "      <td>2020-11-08</td>\n",
       "      <td>2020-11-09</td>\n",
       "      <td>U9A</td>\n",
       "      <td>NaN</td>\n",
       "      <td>NaN</td>\n",
       "      <td>NaN</td>\n",
       "      <td>USD</td>\n",
       "      <td>NaN</td>\n",
       "    </tr>\n",
       "    <tr>\n",
       "      <th>base</th>\n",
       "      <td>I7XJQJ9JS7</td>\n",
       "      <td>2020-11-08</td>\n",
       "      <td>2020-11-09</td>\n",
       "      <td>U9A</td>\n",
       "      <td>NaN</td>\n",
       "      <td>NaN</td>\n",
       "      <td>NaN</td>\n",
       "      <td>140.00</td>\n",
       "      <td>NaN</td>\n",
       "    </tr>\n",
       "    <tr>\n",
       "      <th>total</th>\n",
       "      <td>I7XJQJ9JS7</td>\n",
       "      <td>2020-11-08</td>\n",
       "      <td>2020-11-09</td>\n",
       "      <td>U9A</td>\n",
       "      <td>NaN</td>\n",
       "      <td>NaN</td>\n",
       "      <td>NaN</td>\n",
       "      <td>163.80</td>\n",
       "      <td>NaN</td>\n",
       "    </tr>\n",
       "    <tr>\n",
       "      <th>variations</th>\n",
       "      <td>I7XJQJ9JS7</td>\n",
       "      <td>2020-11-08</td>\n",
       "      <td>2020-11-09</td>\n",
       "      <td>U9A</td>\n",
       "      <td>NaN</td>\n",
       "      <td>NaN</td>\n",
       "      <td>NaN</td>\n",
       "      <td>{'average': {'base': '140.00'}, 'changes': [{'...</td>\n",
       "      <td>NaN</td>\n",
       "    </tr>\n",
       "    <tr>\n",
       "      <th>guarantee</th>\n",
       "      <td>I7XJQJ9JS7</td>\n",
       "      <td>2020-11-08</td>\n",
       "      <td>2020-11-09</td>\n",
       "      <td>U9A</td>\n",
       "      <td>NaN</td>\n",
       "      <td>NaN</td>\n",
       "      <td>NaN</td>\n",
       "      <td>NaN</td>\n",
       "      <td>{'acceptedPayments': {'creditCards': ['AX', 'V...</td>\n",
       "    </tr>\n",
       "    <tr>\n",
       "      <th>paymentType</th>\n",
       "      <td>I7XJQJ9JS7</td>\n",
       "      <td>2020-11-08</td>\n",
       "      <td>2020-11-09</td>\n",
       "      <td>U9A</td>\n",
       "      <td>NaN</td>\n",
       "      <td>NaN</td>\n",
       "      <td>NaN</td>\n",
       "      <td>NaN</td>\n",
       "      <td>guarantee</td>\n",
       "    </tr>\n",
       "    <tr>\n",
       "      <th>cancellation</th>\n",
       "      <td>I7XJQJ9JS7</td>\n",
       "      <td>2020-11-08</td>\n",
       "      <td>2020-11-09</td>\n",
       "      <td>U9A</td>\n",
       "      <td>NaN</td>\n",
       "      <td>NaN</td>\n",
       "      <td>NaN</td>\n",
       "      <td>NaN</td>\n",
       "      <td>{'numberOfNights': 1, 'deadline': '2020-11-08T...</td>\n",
       "    </tr>\n",
       "  </tbody>\n",
       "</table>\n",
       "</div>"
      ],
      "text/plain": [
       "                       id checkInDate checkOutDate rateCode  \\\n",
       "code           I7XJQJ9JS7  2020-11-08   2020-11-09      U9A   \n",
       "type           I7XJQJ9JS7  2020-11-08   2020-11-09      U9A   \n",
       "typeEstimated  I7XJQJ9JS7  2020-11-08   2020-11-09      U9A   \n",
       "description    I7XJQJ9JS7  2020-11-08   2020-11-09      U9A   \n",
       "adults         I7XJQJ9JS7  2020-11-08   2020-11-09      U9A   \n",
       "currency       I7XJQJ9JS7  2020-11-08   2020-11-09      U9A   \n",
       "base           I7XJQJ9JS7  2020-11-08   2020-11-09      U9A   \n",
       "total          I7XJQJ9JS7  2020-11-08   2020-11-09      U9A   \n",
       "variations     I7XJQJ9JS7  2020-11-08   2020-11-09      U9A   \n",
       "guarantee      I7XJQJ9JS7  2020-11-08   2020-11-09      U9A   \n",
       "paymentType    I7XJQJ9JS7  2020-11-08   2020-11-09      U9A   \n",
       "cancellation   I7XJQJ9JS7  2020-11-08   2020-11-09      U9A   \n",
       "\n",
       "              rateFamilyEstimated  \\\n",
       "code                          GOV   \n",
       "type                            C   \n",
       "typeEstimated                 NaN   \n",
       "description                   NaN   \n",
       "adults                        NaN   \n",
       "currency                      NaN   \n",
       "base                          NaN   \n",
       "total                         NaN   \n",
       "variations                    NaN   \n",
       "guarantee                     NaN   \n",
       "paymentType                   NaN   \n",
       "cancellation                  NaN   \n",
       "\n",
       "                                                            room  guests  \\\n",
       "code                                                         NaN     NaN   \n",
       "type                                                         *1Q     NaN   \n",
       "typeEstimated  {'category': 'STANDARD_ROOM', 'beds': 1, 'bedT...     NaN   \n",
       "description    {'text': 'GOVERNMENT RATE AVAILABLE FOR US FED...     NaN   \n",
       "adults                                                       NaN     1.0   \n",
       "currency                                                     NaN     NaN   \n",
       "base                                                         NaN     NaN   \n",
       "total                                                        NaN     NaN   \n",
       "variations                                                   NaN     NaN   \n",
       "guarantee                                                    NaN     NaN   \n",
       "paymentType                                                  NaN     NaN   \n",
       "cancellation                                                 NaN     NaN   \n",
       "\n",
       "                                                           price  \\\n",
       "code                                                         NaN   \n",
       "type                                                         NaN   \n",
       "typeEstimated                                                NaN   \n",
       "description                                                  NaN   \n",
       "adults                                                       NaN   \n",
       "currency                                                     USD   \n",
       "base                                                      140.00   \n",
       "total                                                     163.80   \n",
       "variations     {'average': {'base': '140.00'}, 'changes': [{'...   \n",
       "guarantee                                                    NaN   \n",
       "paymentType                                                  NaN   \n",
       "cancellation                                                 NaN   \n",
       "\n",
       "                                                        policies  \n",
       "code                                                         NaN  \n",
       "type                                                         NaN  \n",
       "typeEstimated                                                NaN  \n",
       "description                                                  NaN  \n",
       "adults                                                       NaN  \n",
       "currency                                                     NaN  \n",
       "base                                                         NaN  \n",
       "total                                                        NaN  \n",
       "variations                                                   NaN  \n",
       "guarantee      {'acceptedPayments': {'creditCards': ['AX', 'V...  \n",
       "paymentType                                            guarantee  \n",
       "cancellation   {'numberOfNights': 1, 'deadline': '2020-11-08T...  "
      ]
     },
     "execution_count": 113,
     "metadata": {},
     "output_type": "execute_result"
    }
   ],
   "source": [
    "df_offer1_1 = pd.DataFrame(offer1_1)\n",
    "df_offer1_1\n"
   ]
  },
  {
   "cell_type": "markdown",
   "metadata": {},
   "source": [
    "* COMO ODEMOS OBSERVAR TODAS LAS OFERTAR DE HOTELES SE ENCUENTRAN ENTRE AGOSTO Y SEPTIEMBRE\n",
    "* UNA RAZON PODRÍA SER POR EL CLIMA PORQUE EN AUSTRALIA DURANTE ESOS MESES ES INVIERNO Y TIENE MENOS TURISMO\n",
    "* PERO NOSOTROS VAMOS A INTENTAR BUSCAR UNA RAZON A UNA DE LAS COMPETENCIAS DE LOS HOTELES --> AIRBNB"
   ]
  },
  {
   "cell_type": "code",
   "execution_count": null,
   "metadata": {},
   "outputs": [],
   "source": []
  },
  {
   "cell_type": "code",
   "execution_count": null,
   "metadata": {},
   "outputs": [],
   "source": []
  },
  {
   "cell_type": "markdown",
   "metadata": {},
   "source": [
    "##### LAS 7 OFERTAS MÁS"
   ]
  },
  {
   "cell_type": "code",
   "execution_count": 116,
   "metadata": {},
   "outputs": [],
   "source": [
    "offer1_2 = list(offer1)[1]\n",
    "offer1_3 = list(offer1)[2]\n",
    "offer1_4 = list(offer1)[3]\n",
    "offer1_5 = list(offer1)[4]\n",
    "offer1_6 = list(offer1)[5]\n",
    "offer1_7 = list(offer1)[6]\n",
    "offer1_8 = list(offer1)[7]"
   ]
  },
  {
   "cell_type": "markdown",
   "metadata": {},
   "source": [
    "##### OFERTA 2"
   ]
  },
  {
   "cell_type": "code",
   "execution_count": 117,
   "metadata": {},
   "outputs": [
    {
     "data": {
      "text/html": [
       "<div>\n",
       "<style scoped>\n",
       "    .dataframe tbody tr th:only-of-type {\n",
       "        vertical-align: middle;\n",
       "    }\n",
       "\n",
       "    .dataframe tbody tr th {\n",
       "        vertical-align: top;\n",
       "    }\n",
       "\n",
       "    .dataframe thead th {\n",
       "        text-align: right;\n",
       "    }\n",
       "</style>\n",
       "<table border=\"1\" class=\"dataframe\">\n",
       "  <thead>\n",
       "    <tr style=\"text-align: right;\">\n",
       "      <th></th>\n",
       "      <th>id</th>\n",
       "      <th>checkInDate</th>\n",
       "      <th>checkOutDate</th>\n",
       "      <th>rateCode</th>\n",
       "      <th>rateFamilyEstimated</th>\n",
       "      <th>room</th>\n",
       "      <th>guests</th>\n",
       "      <th>price</th>\n",
       "      <th>policies</th>\n",
       "    </tr>\n",
       "  </thead>\n",
       "  <tbody>\n",
       "    <tr>\n",
       "      <th>0</th>\n",
       "      <td>T4EXPE5I2J</td>\n",
       "      <td>2020-11-08</td>\n",
       "      <td>2020-11-09</td>\n",
       "      <td>S9R</td>\n",
       "      <td>{'code': 'SRS', 'type': 'C'}</td>\n",
       "      <td>{'type': 'XMI', 'typeEstimated': {'category': ...</td>\n",
       "      <td>{'adults': 1}</td>\n",
       "      <td>{'currency': 'USD', 'base': '161.00', 'total':...</td>\n",
       "      <td>{'paymentType': 'guarantee', 'cancellation': {...</td>\n",
       "    </tr>\n",
       "  </tbody>\n",
       "</table>\n",
       "</div>"
      ],
      "text/plain": [
       "           id checkInDate checkOutDate rateCode           rateFamilyEstimated  \\\n",
       "0  T4EXPE5I2J  2020-11-08   2020-11-09      S9R  {'code': 'SRS', 'type': 'C'}   \n",
       "\n",
       "                                                room         guests  \\\n",
       "0  {'type': 'XMI', 'typeEstimated': {'category': ...  {'adults': 1}   \n",
       "\n",
       "                                               price  \\\n",
       "0  {'currency': 'USD', 'base': '161.00', 'total':...   \n",
       "\n",
       "                                            policies  \n",
       "0  {'paymentType': 'guarantee', 'cancellation': {...  "
      ]
     },
     "execution_count": 117,
     "metadata": {},
     "output_type": "execute_result"
    }
   ],
   "source": [
    "df_offer1_2 = pd.DataFrame(offer1_2)\n",
    "df_offer1_2"
   ]
  },
  {
   "cell_type": "markdown",
   "metadata": {},
   "source": [
    "##### OFERTA 3"
   ]
  },
  {
   "cell_type": "code",
   "execution_count": 118,
   "metadata": {},
   "outputs": [
    {
     "data": {
      "text/html": [
       "<div>\n",
       "<style scoped>\n",
       "    .dataframe tbody tr th:only-of-type {\n",
       "        vertical-align: middle;\n",
       "    }\n",
       "\n",
       "    .dataframe tbody tr th {\n",
       "        vertical-align: top;\n",
       "    }\n",
       "\n",
       "    .dataframe thead th {\n",
       "        text-align: right;\n",
       "    }\n",
       "</style>\n",
       "<table border=\"1\" class=\"dataframe\">\n",
       "  <thead>\n",
       "    <tr style=\"text-align: right;\">\n",
       "      <th></th>\n",
       "      <th>id</th>\n",
       "      <th>checkInDate</th>\n",
       "      <th>checkOutDate</th>\n",
       "      <th>rateCode</th>\n",
       "      <th>rateFamilyEstimated</th>\n",
       "      <th>room</th>\n",
       "      <th>guests</th>\n",
       "      <th>price</th>\n",
       "      <th>policies</th>\n",
       "    </tr>\n",
       "  </thead>\n",
       "  <tbody>\n",
       "    <tr>\n",
       "      <th>0</th>\n",
       "      <td>DN7P5IHJEO</td>\n",
       "      <td>2020-11-08</td>\n",
       "      <td>2020-11-09</td>\n",
       "      <td>S9R</td>\n",
       "      <td>{'code': 'SRS', 'type': 'C'}</td>\n",
       "      <td>{'type': 'XMI', 'typeEstimated': {'category': ...</td>\n",
       "      <td>{'adults': 1}</td>\n",
       "      <td>{'currency': 'USD', 'base': '118.00', 'total':...</td>\n",
       "      <td>{'paymentType': 'guarantee', 'cancellation': {...</td>\n",
       "    </tr>\n",
       "  </tbody>\n",
       "</table>\n",
       "</div>"
      ],
      "text/plain": [
       "           id checkInDate checkOutDate rateCode           rateFamilyEstimated  \\\n",
       "0  DN7P5IHJEO  2020-11-08   2020-11-09      S9R  {'code': 'SRS', 'type': 'C'}   \n",
       "\n",
       "                                                room         guests  \\\n",
       "0  {'type': 'XMI', 'typeEstimated': {'category': ...  {'adults': 1}   \n",
       "\n",
       "                                               price  \\\n",
       "0  {'currency': 'USD', 'base': '118.00', 'total':...   \n",
       "\n",
       "                                            policies  \n",
       "0  {'paymentType': 'guarantee', 'cancellation': {...  "
      ]
     },
     "execution_count": 118,
     "metadata": {},
     "output_type": "execute_result"
    }
   ],
   "source": [
    "df_offer1_3 = pd.DataFrame(offer1_3)\n",
    "df_offer1_3"
   ]
  },
  {
   "cell_type": "markdown",
   "metadata": {},
   "source": [
    "##### OFERTA 4"
   ]
  },
  {
   "cell_type": "code",
   "execution_count": 119,
   "metadata": {},
   "outputs": [
    {
     "data": {
      "text/html": [
       "<div>\n",
       "<style scoped>\n",
       "    .dataframe tbody tr th:only-of-type {\n",
       "        vertical-align: middle;\n",
       "    }\n",
       "\n",
       "    .dataframe tbody tr th {\n",
       "        vertical-align: top;\n",
       "    }\n",
       "\n",
       "    .dataframe thead th {\n",
       "        text-align: right;\n",
       "    }\n",
       "</style>\n",
       "<table border=\"1\" class=\"dataframe\">\n",
       "  <thead>\n",
       "    <tr style=\"text-align: right;\">\n",
       "      <th></th>\n",
       "      <th>id</th>\n",
       "      <th>checkInDate</th>\n",
       "      <th>checkOutDate</th>\n",
       "      <th>rateCode</th>\n",
       "      <th>rateFamilyEstimated</th>\n",
       "      <th>commission</th>\n",
       "      <th>room</th>\n",
       "      <th>guests</th>\n",
       "      <th>price</th>\n",
       "      <th>policies</th>\n",
       "    </tr>\n",
       "  </thead>\n",
       "  <tbody>\n",
       "    <tr>\n",
       "      <th>0</th>\n",
       "      <td>TCB6WHPL1H</td>\n",
       "      <td>2020-11-08</td>\n",
       "      <td>2020-11-09</td>\n",
       "      <td>DBR</td>\n",
       "      <td>{'code': 'BAR', 'type': 'P'}</td>\n",
       "      <td>{'percentage': '10.00'}</td>\n",
       "      <td>{'type': 'DKR', 'typeEstimated': {'category': ...</td>\n",
       "      <td>{'adults': 1}</td>\n",
       "      <td>{'currency': 'USD', 'base': '119.00', 'total':...</td>\n",
       "      <td>{'paymentType': 'guarantee', 'cancellation': {...</td>\n",
       "    </tr>\n",
       "  </tbody>\n",
       "</table>\n",
       "</div>"
      ],
      "text/plain": [
       "           id checkInDate checkOutDate rateCode           rateFamilyEstimated  \\\n",
       "0  TCB6WHPL1H  2020-11-08   2020-11-09      DBR  {'code': 'BAR', 'type': 'P'}   \n",
       "\n",
       "                commission                                               room  \\\n",
       "0  {'percentage': '10.00'}  {'type': 'DKR', 'typeEstimated': {'category': ...   \n",
       "\n",
       "          guests                                              price  \\\n",
       "0  {'adults': 1}  {'currency': 'USD', 'base': '119.00', 'total':...   \n",
       "\n",
       "                                            policies  \n",
       "0  {'paymentType': 'guarantee', 'cancellation': {...  "
      ]
     },
     "execution_count": 119,
     "metadata": {},
     "output_type": "execute_result"
    }
   ],
   "source": [
    "df_offer1_4 = pd.DataFrame(offer1_4)\n",
    "df_offer1_4"
   ]
  },
  {
   "cell_type": "markdown",
   "metadata": {},
   "source": [
    "##### OFERTA 5"
   ]
  },
  {
   "cell_type": "code",
   "execution_count": 120,
   "metadata": {},
   "outputs": [
    {
     "data": {
      "text/html": [
       "<div>\n",
       "<style scoped>\n",
       "    .dataframe tbody tr th:only-of-type {\n",
       "        vertical-align: middle;\n",
       "    }\n",
       "\n",
       "    .dataframe tbody tr th {\n",
       "        vertical-align: top;\n",
       "    }\n",
       "\n",
       "    .dataframe thead th {\n",
       "        text-align: right;\n",
       "    }\n",
       "</style>\n",
       "<table border=\"1\" class=\"dataframe\">\n",
       "  <thead>\n",
       "    <tr style=\"text-align: right;\">\n",
       "      <th></th>\n",
       "      <th>id</th>\n",
       "      <th>checkInDate</th>\n",
       "      <th>checkOutDate</th>\n",
       "      <th>rateCode</th>\n",
       "      <th>room</th>\n",
       "      <th>guests</th>\n",
       "      <th>price</th>\n",
       "      <th>policies</th>\n",
       "    </tr>\n",
       "  </thead>\n",
       "  <tbody>\n",
       "    <tr>\n",
       "      <th>0</th>\n",
       "      <td>SU1M761COJ</td>\n",
       "      <td>2020-11-08</td>\n",
       "      <td>2020-11-09</td>\n",
       "      <td>RAC</td>\n",
       "      <td>{'type': 'A07', 'typeEstimated': {'category': ...</td>\n",
       "      <td>{'adults': 1}</td>\n",
       "      <td>{'currency': 'USD', 'base': '139.99', 'total':...</td>\n",
       "      <td>{'paymentType': 'guarantee', 'cancellation': {...</td>\n",
       "    </tr>\n",
       "  </tbody>\n",
       "</table>\n",
       "</div>"
      ],
      "text/plain": [
       "           id checkInDate checkOutDate rateCode  \\\n",
       "0  SU1M761COJ  2020-11-08   2020-11-09      RAC   \n",
       "\n",
       "                                                room         guests  \\\n",
       "0  {'type': 'A07', 'typeEstimated': {'category': ...  {'adults': 1}   \n",
       "\n",
       "                                               price  \\\n",
       "0  {'currency': 'USD', 'base': '139.99', 'total':...   \n",
       "\n",
       "                                            policies  \n",
       "0  {'paymentType': 'guarantee', 'cancellation': {...  "
      ]
     },
     "execution_count": 120,
     "metadata": {},
     "output_type": "execute_result"
    }
   ],
   "source": [
    "df_offer1_5 = pd.DataFrame(offer1_5)\n",
    "df_offer1_5"
   ]
  },
  {
   "cell_type": "markdown",
   "metadata": {},
   "source": [
    "##### OFERTA 6 "
   ]
  },
  {
   "cell_type": "code",
   "execution_count": 121,
   "metadata": {},
   "outputs": [
    {
     "data": {
      "text/html": [
       "<div>\n",
       "<style scoped>\n",
       "    .dataframe tbody tr th:only-of-type {\n",
       "        vertical-align: middle;\n",
       "    }\n",
       "\n",
       "    .dataframe tbody tr th {\n",
       "        vertical-align: top;\n",
       "    }\n",
       "\n",
       "    .dataframe thead th {\n",
       "        text-align: right;\n",
       "    }\n",
       "</style>\n",
       "<table border=\"1\" class=\"dataframe\">\n",
       "  <thead>\n",
       "    <tr style=\"text-align: right;\">\n",
       "      <th></th>\n",
       "      <th>id</th>\n",
       "      <th>checkInDate</th>\n",
       "      <th>checkOutDate</th>\n",
       "      <th>rateCode</th>\n",
       "      <th>rateFamilyEstimated</th>\n",
       "      <th>room</th>\n",
       "      <th>guests</th>\n",
       "      <th>price</th>\n",
       "      <th>policies</th>\n",
       "    </tr>\n",
       "  </thead>\n",
       "  <tbody>\n",
       "    <tr>\n",
       "      <th>0</th>\n",
       "      <td>VI6I7SG5BB</td>\n",
       "      <td>2020-11-08</td>\n",
       "      <td>2020-11-09</td>\n",
       "      <td>S9R</td>\n",
       "      <td>{'code': 'SRS', 'type': 'C'}</td>\n",
       "      <td>{'type': 'XMI', 'typeEstimated': {'category': ...</td>\n",
       "      <td>{'adults': 1}</td>\n",
       "      <td>{'currency': 'USD', 'base': '347.65', 'total':...</td>\n",
       "      <td>{'paymentType': 'guarantee', 'cancellation': {...</td>\n",
       "    </tr>\n",
       "  </tbody>\n",
       "</table>\n",
       "</div>"
      ],
      "text/plain": [
       "           id checkInDate checkOutDate rateCode           rateFamilyEstimated  \\\n",
       "0  VI6I7SG5BB  2020-11-08   2020-11-09      S9R  {'code': 'SRS', 'type': 'C'}   \n",
       "\n",
       "                                                room         guests  \\\n",
       "0  {'type': 'XMI', 'typeEstimated': {'category': ...  {'adults': 1}   \n",
       "\n",
       "                                               price  \\\n",
       "0  {'currency': 'USD', 'base': '347.65', 'total':...   \n",
       "\n",
       "                                            policies  \n",
       "0  {'paymentType': 'guarantee', 'cancellation': {...  "
      ]
     },
     "execution_count": 121,
     "metadata": {},
     "output_type": "execute_result"
    }
   ],
   "source": [
    "df_offer1_6 = pd.DataFrame(offer1_6)\n",
    "df_offer1_6"
   ]
  },
  {
   "cell_type": "markdown",
   "metadata": {},
   "source": [
    "##### OFERTA 7"
   ]
  },
  {
   "cell_type": "code",
   "execution_count": 122,
   "metadata": {},
   "outputs": [
    {
     "data": {
      "text/html": [
       "<div>\n",
       "<style scoped>\n",
       "    .dataframe tbody tr th:only-of-type {\n",
       "        vertical-align: middle;\n",
       "    }\n",
       "\n",
       "    .dataframe tbody tr th {\n",
       "        vertical-align: top;\n",
       "    }\n",
       "\n",
       "    .dataframe thead th {\n",
       "        text-align: right;\n",
       "    }\n",
       "</style>\n",
       "<table border=\"1\" class=\"dataframe\">\n",
       "  <thead>\n",
       "    <tr style=\"text-align: right;\">\n",
       "      <th></th>\n",
       "      <th>id</th>\n",
       "      <th>checkInDate</th>\n",
       "      <th>checkOutDate</th>\n",
       "      <th>rateCode</th>\n",
       "      <th>rateFamilyEstimated</th>\n",
       "      <th>room</th>\n",
       "      <th>guests</th>\n",
       "      <th>price</th>\n",
       "      <th>policies</th>\n",
       "    </tr>\n",
       "  </thead>\n",
       "  <tbody>\n",
       "    <tr>\n",
       "      <th>0</th>\n",
       "      <td>TKNLRZ2WL3</td>\n",
       "      <td>2020-11-08</td>\n",
       "      <td>2020-11-09</td>\n",
       "      <td>RAC</td>\n",
       "      <td>{'code': 'BAR', 'type': 'P'}</td>\n",
       "      <td>{'type': 'REG', 'typeEstimated': {'category': ...</td>\n",
       "      <td>{'adults': 1}</td>\n",
       "      <td>{'currency': 'USD', 'base': '159.00', 'total':...</td>\n",
       "      <td>{'paymentType': 'guarantee'}</td>\n",
       "    </tr>\n",
       "  </tbody>\n",
       "</table>\n",
       "</div>"
      ],
      "text/plain": [
       "           id checkInDate checkOutDate rateCode           rateFamilyEstimated  \\\n",
       "0  TKNLRZ2WL3  2020-11-08   2020-11-09      RAC  {'code': 'BAR', 'type': 'P'}   \n",
       "\n",
       "                                                room         guests  \\\n",
       "0  {'type': 'REG', 'typeEstimated': {'category': ...  {'adults': 1}   \n",
       "\n",
       "                                               price  \\\n",
       "0  {'currency': 'USD', 'base': '159.00', 'total':...   \n",
       "\n",
       "                       policies  \n",
       "0  {'paymentType': 'guarantee'}  "
      ]
     },
     "execution_count": 122,
     "metadata": {},
     "output_type": "execute_result"
    }
   ],
   "source": [
    "df_offer1_7 = pd.DataFrame(offer1_7)\n",
    "df_offer1_7"
   ]
  },
  {
   "cell_type": "markdown",
   "metadata": {},
   "source": [
    "##### OFERTA 8"
   ]
  },
  {
   "cell_type": "code",
   "execution_count": 123,
   "metadata": {},
   "outputs": [
    {
     "data": {
      "text/html": [
       "<div>\n",
       "<style scoped>\n",
       "    .dataframe tbody tr th:only-of-type {\n",
       "        vertical-align: middle;\n",
       "    }\n",
       "\n",
       "    .dataframe tbody tr th {\n",
       "        vertical-align: top;\n",
       "    }\n",
       "\n",
       "    .dataframe thead th {\n",
       "        text-align: right;\n",
       "    }\n",
       "</style>\n",
       "<table border=\"1\" class=\"dataframe\">\n",
       "  <thead>\n",
       "    <tr style=\"text-align: right;\">\n",
       "      <th></th>\n",
       "      <th>id</th>\n",
       "      <th>checkInDate</th>\n",
       "      <th>checkOutDate</th>\n",
       "      <th>rateCode</th>\n",
       "      <th>rateFamilyEstimated</th>\n",
       "      <th>room</th>\n",
       "      <th>guests</th>\n",
       "      <th>price</th>\n",
       "      <th>policies</th>\n",
       "    </tr>\n",
       "  </thead>\n",
       "  <tbody>\n",
       "    <tr>\n",
       "      <th>0</th>\n",
       "      <td>ETDVGK2XW6</td>\n",
       "      <td>2020-11-08</td>\n",
       "      <td>2020-11-09</td>\n",
       "      <td>22A</td>\n",
       "      <td>{'code': 'BAR', 'type': 'P'}</td>\n",
       "      <td>{'type': '*1K', 'typeEstimated': {'category': ...</td>\n",
       "      <td>{'adults': 1}</td>\n",
       "      <td>{'currency': 'USD', 'base': '129.00', 'total':...</td>\n",
       "      <td>{'guarantee': {'acceptedPayments': {'creditCar...</td>\n",
       "    </tr>\n",
       "  </tbody>\n",
       "</table>\n",
       "</div>"
      ],
      "text/plain": [
       "           id checkInDate checkOutDate rateCode           rateFamilyEstimated  \\\n",
       "0  ETDVGK2XW6  2020-11-08   2020-11-09      22A  {'code': 'BAR', 'type': 'P'}   \n",
       "\n",
       "                                                room         guests  \\\n",
       "0  {'type': '*1K', 'typeEstimated': {'category': ...  {'adults': 1}   \n",
       "\n",
       "                                               price  \\\n",
       "0  {'currency': 'USD', 'base': '129.00', 'total':...   \n",
       "\n",
       "                                            policies  \n",
       "0  {'guarantee': {'acceptedPayments': {'creditCar...  "
      ]
     },
     "execution_count": 123,
     "metadata": {},
     "output_type": "execute_result"
    }
   ],
   "source": [
    "df_offer1_8 = pd.DataFrame(offer1_8)\n",
    "df_offer1_8"
   ]
  },
  {
   "cell_type": "markdown",
   "metadata": {},
   "source": [
    "### PRICE METRICS"
   ]
  },
  {
   "cell_type": "code",
   "execution_count": 138,
   "metadata": {},
   "outputs": [],
   "source": [
    "response = amadeus.analytics.itinerary_price_metrics.get(originIataCode='MAD', destinationIataCode='AUS',\n",
    "                                            departureDate='2021-03-21')\n"
   ]
  },
  {
   "cell_type": "code",
   "execution_count": 140,
   "metadata": {},
   "outputs": [
    {
     "ename": "AttributeError",
     "evalue": "'Response' object has no attribute 'json'",
     "output_type": "error",
     "traceback": [
      "\u001b[1;31m---------------------------------------------------------------------------\u001b[0m",
      "\u001b[1;31mAttributeError\u001b[0m                            Traceback (most recent call last)",
      "\u001b[1;32m<ipython-input-140-34c975fa6377>\u001b[0m in \u001b[0;36m<module>\u001b[1;34m\u001b[0m\n\u001b[1;32m----> 1\u001b[1;33m \u001b[0mresponse\u001b[0m\u001b[1;33m.\u001b[0m\u001b[0mjson\u001b[0m\u001b[1;33m(\u001b[0m\u001b[1;33m)\u001b[0m\u001b[1;33m\u001b[0m\u001b[1;33m\u001b[0m\u001b[0m\n\u001b[0m",
      "\u001b[1;31mAttributeError\u001b[0m: 'Response' object has no attribute 'json'"
     ]
    }
   ],
   "source": [
    "response.json()"
   ]
  }
 ],
 "metadata": {
  "kernelspec": {
   "display_name": "Python 3",
   "language": "python",
   "name": "python3"
  },
  "language_info": {
   "codemirror_mode": {
    "name": "ipython",
    "version": 3
   },
   "file_extension": ".py",
   "mimetype": "text/x-python",
   "name": "python",
   "nbconvert_exporter": "python",
   "pygments_lexer": "ipython3",
   "version": "3.8.3"
  }
 },
 "nbformat": 4,
 "nbformat_minor": 4
}
