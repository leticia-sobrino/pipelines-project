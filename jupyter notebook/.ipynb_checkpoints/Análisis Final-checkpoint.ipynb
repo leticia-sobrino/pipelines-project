{
 "cells": [
  {
   "cell_type": "markdown",
   "metadata": {},
   "source": [
    "### RELACIÓN Y ANÁLISIS DE LA API DE AMADEUS Y Y DATASET DE AIRBNB EN MADRID"
   ]
  },
  {
   "cell_type": "code",
   "execution_count": 92,
   "metadata": {},
   "outputs": [],
   "source": [
    "import sys \n",
    "import sys as gr\n",
    "import pandas as pd\n",
    "import seaborn as sns\n",
    "import matplotlib as plt"
   ]
  },
  {
   "cell_type": "markdown",
   "metadata": {},
   "source": [
    "#### IMPRTAMOS NUESTRO API LIMPIO"
   ]
  },
  {
   "cell_type": "code",
   "execution_count": 22,
   "metadata": {
    "scrolled": false
   },
   "outputs": [
    {
     "data": {
      "text/html": [
       "<div>\n",
       "<style scoped>\n",
       "    .dataframe tbody tr th:only-of-type {\n",
       "        vertical-align: middle;\n",
       "    }\n",
       "\n",
       "    .dataframe tbody tr th {\n",
       "        vertical-align: top;\n",
       "    }\n",
       "\n",
       "    .dataframe thead th {\n",
       "        text-align: right;\n",
       "    }\n",
       "</style>\n",
       "<table border=\"1\" class=\"dataframe\">\n",
       "  <thead>\n",
       "    <tr style=\"text-align: right;\">\n",
       "      <th></th>\n",
       "      <th>Unnamed: 0</th>\n",
       "      <th>Unnamed: 0.1</th>\n",
       "      <th>checkInDate</th>\n",
       "      <th>checkOutDate</th>\n",
       "      <th>TotalPrice</th>\n",
       "      <th>TypeRoom</th>\n",
       "      <th>Guests/room</th>\n",
       "    </tr>\n",
       "  </thead>\n",
       "  <tbody>\n",
       "    <tr>\n",
       "      <th>0</th>\n",
       "      <td>0</td>\n",
       "      <td>0</td>\n",
       "      <td>2020-11-09</td>\n",
       "      <td>2020-11-10</td>\n",
       "      <td>78.0</td>\n",
       "      <td>STANDARD_ROOM</td>\n",
       "      <td>1</td>\n",
       "    </tr>\n",
       "    <tr>\n",
       "      <th>1</th>\n",
       "      <td>1</td>\n",
       "      <td>1</td>\n",
       "      <td>2020-11-09</td>\n",
       "      <td>2020-11-10</td>\n",
       "      <td>117.0</td>\n",
       "      <td>STANDARD_ROOM</td>\n",
       "      <td>1</td>\n",
       "    </tr>\n",
       "    <tr>\n",
       "      <th>2</th>\n",
       "      <td>2</td>\n",
       "      <td>2</td>\n",
       "      <td>2020-11-09</td>\n",
       "      <td>2020-11-10</td>\n",
       "      <td>48.0</td>\n",
       "      <td>STANDARD_ROOM</td>\n",
       "      <td>1</td>\n",
       "    </tr>\n",
       "    <tr>\n",
       "      <th>3</th>\n",
       "      <td>3</td>\n",
       "      <td>3</td>\n",
       "      <td>2020-11-09</td>\n",
       "      <td>2020-11-10</td>\n",
       "      <td>45.0</td>\n",
       "      <td>COMFORT_ROOM</td>\n",
       "      <td>1</td>\n",
       "    </tr>\n",
       "    <tr>\n",
       "      <th>4</th>\n",
       "      <td>4</td>\n",
       "      <td>4</td>\n",
       "      <td>2020-11-09</td>\n",
       "      <td>2020-11-10</td>\n",
       "      <td>65.0</td>\n",
       "      <td>STANDARD_ROOM</td>\n",
       "      <td>1</td>\n",
       "    </tr>\n",
       "    <tr>\n",
       "      <th>5</th>\n",
       "      <td>5</td>\n",
       "      <td>5</td>\n",
       "      <td>2020-11-09</td>\n",
       "      <td>2020-11-10</td>\n",
       "      <td>85.0</td>\n",
       "      <td>STUDIO</td>\n",
       "      <td>1</td>\n",
       "    </tr>\n",
       "    <tr>\n",
       "      <th>6</th>\n",
       "      <td>6</td>\n",
       "      <td>6</td>\n",
       "      <td>2020-11-09</td>\n",
       "      <td>2020-11-10</td>\n",
       "      <td>105.0</td>\n",
       "      <td>STANDARD_ROOM</td>\n",
       "      <td>1</td>\n",
       "    </tr>\n",
       "  </tbody>\n",
       "</table>\n",
       "</div>"
      ],
      "text/plain": [
       "   Unnamed: 0  Unnamed: 0.1 checkInDate checkOutDate  TotalPrice  \\\n",
       "0           0             0  2020-11-09   2020-11-10        78.0   \n",
       "1           1             1  2020-11-09   2020-11-10       117.0   \n",
       "2           2             2  2020-11-09   2020-11-10        48.0   \n",
       "3           3             3  2020-11-09   2020-11-10        45.0   \n",
       "4           4             4  2020-11-09   2020-11-10        65.0   \n",
       "5           5             5  2020-11-09   2020-11-10        85.0   \n",
       "6           6             6  2020-11-09   2020-11-10       105.0   \n",
       "\n",
       "        TypeRoom  Guests/room  \n",
       "0  STANDARD_ROOM            1  \n",
       "1  STANDARD_ROOM            1  \n",
       "2  STANDARD_ROOM            1  \n",
       "3   COMFORT_ROOM            1  \n",
       "4  STANDARD_ROOM            1  \n",
       "5         STUDIO            1  \n",
       "6  STANDARD_ROOM            1  "
      ]
     },
     "execution_count": 22,
     "metadata": {},
     "output_type": "execute_result"
    }
   ],
   "source": [
    "df_clean = pd.read_csv('api_clean.csv')\n",
    "df_clean"
   ]
  },
  {
   "cell_type": "code",
   "execution_count": 101,
   "metadata": {},
   "outputs": [
    {
     "data": {
      "image/png": "[encoded data removed]",
      "text/plain": [
       "<Figure size 432x288 with 1 Axes>"
      ]
     },
     "metadata": {
      "needs_background": "light"
     },
     "output_type": "display_data"
    }
   ],
   "source": [
    "# GRAFICA 1\n",
    "sns_plot_1 = sns.histplot(x = df_clean.TotalPrice, y = df_clean.TypeRoom, palette=\"Blues\")"
   ]
  },
  {
   "cell_type": "code",
   "execution_count": 124,
   "metadata": {},
   "outputs": [],
   "source": [
    "# GUARDAMOS GRÁFICA EN LA CARPETA DE OUTPUT\n",
    "sns_plot_1.figure.savefig(\"../output/1_TotalPrice_and_TypeRoom100.jpg\", dpi=100)"
   ]
  },
  {
   "cell_type": "markdown",
   "metadata": {},
   "source": [
    "* ESTA GRAFICA ES MUY VISUAL YA QUE PODEMOS VER COMO VARIAN LOS PRECIOS DE LAS OFERTAS DE HOTELES SEGUN EL TIPO DE HABITACION QUE SEA\n",
    "* MUY INTUITIVA"
   ]
  },
  {
   "cell_type": "code",
   "execution_count": 104,
   "metadata": {
    "scrolled": true
   },
   "outputs": [
    {
     "data": {
      "image/png": "[encoded data removed]",
      "text/plain": [
       "<Figure size 432x288 with 1 Axes>"
      ]
     },
     "metadata": {
      "needs_background": "light"
     },
     "output_type": "display_data"
    }
   ],
   "source": [
    "# GRAFICA 2\n",
    "sns_plot_2 = sns.histplot(x=df_clean.TotalPrice, hue=df_clean.TypeRoom, element=\"step\")"
   ]
  },
  {
   "cell_type": "code",
   "execution_count": 107,
   "metadata": {},
   "outputs": [],
   "source": [
    "# GUARDAMOS GRÁFICA EN LA CARPETA DE OUTPUT\n",
    "sns_plot_2.figure.savefig(\"../output/2_TotalPrice_and_TypeRoom100_Bars.jpg\", dpi=100)"
   ]
  },
  {
   "cell_type": "markdown",
   "metadata": {},
   "source": [
    "* ESTA GRÁFICA MUESTRA DE MANERA VISUAL EXACTAMENTE LO MISMO QUE LO ANTERIOR\n",
    "* ES UN POCO MENOS VISUAL YA QUE NO PODRIAMOS VISUALIZAR LOS DATOS SIN DUDAR A MENOS DE HABER HECHO LA LIMPIEZA DE LA API PORQUE LA PRIMERA FRANJA DEL TOTAL PRICE PODRIA LLEVAR A CONFUSION.\n",
    "* SE VE DE UNA MANERA MUHCHO MAS SENCILLA LA GRAFICA ANTERIOR"
   ]
  },
  {
   "cell_type": "code",
   "execution_count": 109,
   "metadata": {},
   "outputs": [
    {
     "data": {
      "image/png": "[encoded data removed]",
      "text/plain": [
       "<Figure size 432x288 with 1 Axes>"
      ]
     },
     "metadata": {
      "needs_background": "light"
     },
     "output_type": "display_data"
    }
   ],
   "source": [
    "# GRAFICA 3\n",
    "sns_plot_3 = sns.histplot(x=df_clean.TotalPrice, element=\"step\", fill=False, cumulative=True)"
   ]
  },
  {
   "cell_type": "code",
   "execution_count": 110,
   "metadata": {},
   "outputs": [],
   "source": [
    "# GUARDAMOS GRÁFICA EN LA CARPETA DE OUTPUT\n",
    "sns_plot_3.figure.savefig(\"../output/TotalPrice_and_TypeRoom100_Correlation.jpg\", dpi=100)"
   ]
  },
  {
   "cell_type": "markdown",
   "metadata": {},
   "source": [
    "* EN ESTA PODEMOS OBSERVAR QUE EXISTE CORRELACION DE LOS PRECIOS DE LAS OFERTAS DE HOTELES\n",
    "* AUNQUE SEA UNA G´RAFICA POBRE, PARA LOS DATOS QUE TENEMOS ES MUY VISUAL"
   ]
  },
  {
   "cell_type": "markdown",
   "metadata": {},
   "source": [
    "#### IMPORTAMOS NUESRO DATASET LIMPIO"
   ]
  },
  {
   "cell_type": "markdown",
   "metadata": {},
   "source": [
    "#### VISTA GENERAL DEL 2019"
   ]
  },
  {
   "cell_type": "code",
   "execution_count": 48,
   "metadata": {},
   "outputs": [
    {
     "data": {
      "text/html": [
       "<div>\n",
       "<style scoped>\n",
       "    .dataframe tbody tr th:only-of-type {\n",
       "        vertical-align: middle;\n",
       "    }\n",
       "\n",
       "    .dataframe tbody tr th {\n",
       "        vertical-align: top;\n",
       "    }\n",
       "\n",
       "    .dataframe thead th {\n",
       "        text-align: right;\n",
       "    }\n",
       "</style>\n",
       "<table border=\"1\" class=\"dataframe\">\n",
       "  <thead>\n",
       "    <tr style=\"text-align: right;\">\n",
       "      <th></th>\n",
       "      <th>Unnamed: 0</th>\n",
       "      <th>date</th>\n",
       "      <th>price</th>\n",
       "    </tr>\n",
       "  </thead>\n",
       "  <tbody>\n",
       "    <tr>\n",
       "      <th>0</th>\n",
       "      <td>0</td>\n",
       "      <td>2019-09-19</td>\n",
       "      <td>$63.00</td>\n",
       "    </tr>\n",
       "    <tr>\n",
       "      <th>1</th>\n",
       "      <td>1</td>\n",
       "      <td>2019-09-19</td>\n",
       "      <td>$70.00</td>\n",
       "    </tr>\n",
       "    <tr>\n",
       "      <th>2</th>\n",
       "      <td>2</td>\n",
       "      <td>2019-09-20</td>\n",
       "      <td>$75.00</td>\n",
       "    </tr>\n",
       "    <tr>\n",
       "      <th>3</th>\n",
       "      <td>3</td>\n",
       "      <td>2019-09-21</td>\n",
       "      <td>$75.00</td>\n",
       "    </tr>\n",
       "    <tr>\n",
       "      <th>4</th>\n",
       "      <td>4</td>\n",
       "      <td>2019-09-22</td>\n",
       "      <td>$70.00</td>\n",
       "    </tr>\n",
       "    <tr>\n",
       "      <th>5</th>\n",
       "      <td>5</td>\n",
       "      <td>2019-09-23</td>\n",
       "      <td>$70.00</td>\n",
       "    </tr>\n",
       "    <tr>\n",
       "      <th>6</th>\n",
       "      <td>6</td>\n",
       "      <td>2019-09-24</td>\n",
       "      <td>$70.00</td>\n",
       "    </tr>\n",
       "    <tr>\n",
       "      <th>7</th>\n",
       "      <td>7</td>\n",
       "      <td>2019-09-25</td>\n",
       "      <td>$70.00</td>\n",
       "    </tr>\n",
       "    <tr>\n",
       "      <th>8</th>\n",
       "      <td>8</td>\n",
       "      <td>2019-09-26</td>\n",
       "      <td>$70.00</td>\n",
       "    </tr>\n",
       "    <tr>\n",
       "      <th>9</th>\n",
       "      <td>9</td>\n",
       "      <td>2019-09-27</td>\n",
       "      <td>$75.00</td>\n",
       "    </tr>\n",
       "    <tr>\n",
       "      <th>10</th>\n",
       "      <td>10</td>\n",
       "      <td>2019-09-28</td>\n",
       "      <td>$75.00</td>\n",
       "    </tr>\n",
       "    <tr>\n",
       "      <th>11</th>\n",
       "      <td>11</td>\n",
       "      <td>2019-09-29</td>\n",
       "      <td>$70.00</td>\n",
       "    </tr>\n",
       "    <tr>\n",
       "      <th>12</th>\n",
       "      <td>12</td>\n",
       "      <td>2019-09-30</td>\n",
       "      <td>$70.00</td>\n",
       "    </tr>\n",
       "    <tr>\n",
       "      <th>13</th>\n",
       "      <td>13</td>\n",
       "      <td>2019-10-01</td>\n",
       "      <td>$70.00</td>\n",
       "    </tr>\n",
       "    <tr>\n",
       "      <th>14</th>\n",
       "      <td>14</td>\n",
       "      <td>2019-10-02</td>\n",
       "      <td>$70.00</td>\n",
       "    </tr>\n",
       "    <tr>\n",
       "      <th>15</th>\n",
       "      <td>15</td>\n",
       "      <td>2019-10-03</td>\n",
       "      <td>$70.00</td>\n",
       "    </tr>\n",
       "    <tr>\n",
       "      <th>16</th>\n",
       "      <td>16</td>\n",
       "      <td>2019-10-04</td>\n",
       "      <td>$75.00</td>\n",
       "    </tr>\n",
       "    <tr>\n",
       "      <th>17</th>\n",
       "      <td>17</td>\n",
       "      <td>2019-10-05</td>\n",
       "      <td>$75.00</td>\n",
       "    </tr>\n",
       "    <tr>\n",
       "      <th>18</th>\n",
       "      <td>18</td>\n",
       "      <td>2019-10-06</td>\n",
       "      <td>$70.00</td>\n",
       "    </tr>\n",
       "    <tr>\n",
       "      <th>19</th>\n",
       "      <td>19</td>\n",
       "      <td>2019-10-07</td>\n",
       "      <td>$70.00</td>\n",
       "    </tr>\n",
       "    <tr>\n",
       "      <th>20</th>\n",
       "      <td>20</td>\n",
       "      <td>2019-10-08</td>\n",
       "      <td>$70.00</td>\n",
       "    </tr>\n",
       "    <tr>\n",
       "      <th>21</th>\n",
       "      <td>21</td>\n",
       "      <td>2019-10-09</td>\n",
       "      <td>$70.00</td>\n",
       "    </tr>\n",
       "    <tr>\n",
       "      <th>22</th>\n",
       "      <td>22</td>\n",
       "      <td>2019-10-10</td>\n",
       "      <td>$70.00</td>\n",
       "    </tr>\n",
       "    <tr>\n",
       "      <th>23</th>\n",
       "      <td>23</td>\n",
       "      <td>2019-10-11</td>\n",
       "      <td>$75.00</td>\n",
       "    </tr>\n",
       "    <tr>\n",
       "      <th>24</th>\n",
       "      <td>24</td>\n",
       "      <td>2019-10-12</td>\n",
       "      <td>$75.00</td>\n",
       "    </tr>\n",
       "  </tbody>\n",
       "</table>\n",
       "</div>"
      ],
      "text/plain": [
       "    Unnamed: 0        date   price\n",
       "0            0  2019-09-19  $63.00\n",
       "1            1  2019-09-19  $70.00\n",
       "2            2  2019-09-20  $75.00\n",
       "3            3  2019-09-21  $75.00\n",
       "4            4  2019-09-22  $70.00\n",
       "5            5  2019-09-23  $70.00\n",
       "6            6  2019-09-24  $70.00\n",
       "7            7  2019-09-25  $70.00\n",
       "8            8  2019-09-26  $70.00\n",
       "9            9  2019-09-27  $75.00\n",
       "10          10  2019-09-28  $75.00\n",
       "11          11  2019-09-29  $70.00\n",
       "12          12  2019-09-30  $70.00\n",
       "13          13  2019-10-01  $70.00\n",
       "14          14  2019-10-02  $70.00\n",
       "15          15  2019-10-03  $70.00\n",
       "16          16  2019-10-04  $75.00\n",
       "17          17  2019-10-05  $75.00\n",
       "18          18  2019-10-06  $70.00\n",
       "19          19  2019-10-07  $70.00\n",
       "20          20  2019-10-08  $70.00\n",
       "21          21  2019-10-09  $70.00\n",
       "22          22  2019-10-10  $70.00\n",
       "23          23  2019-10-11  $75.00\n",
       "24          24  2019-10-12  $75.00"
      ]
     },
     "execution_count": 48,
     "metadata": {},
     "output_type": "execute_result"
    }
   ],
   "source": [
    "df_2019 = pd.read_csv('df_2019.csv')\n",
    "df_2019"
   ]
  },
  {
   "cell_type": "code",
   "execution_count": 111,
   "metadata": {},
   "outputs": [
    {
     "data": {
      "image/png": "[encoded data removed]",
      "text/plain": [
       "<Figure size 432x288 with 1 Axes>"
      ]
     },
     "metadata": {
      "needs_background": "light"
     },
     "output_type": "display_data"
    }
   ],
   "source": [
    "#GRAFICA 4:\n",
    "sns_plot_4 = sns.histplot(x= df_2019.price, y= df_2019.date)"
   ]
  },
  {
   "cell_type": "code",
   "execution_count": 112,
   "metadata": {},
   "outputs": [],
   "source": [
    "# GUARDAMOS GRÁFICA EN LA CARPETA DE OUTPUT\n",
    "sns_plot_4.figure.savefig(\"../output/Price_and_Date_Airbnb2019100.jpg\", dpi=100)"
   ]
  },
  {
   "cell_type": "markdown",
   "metadata": {},
   "source": [
    "* EN ESTA GRAFRICA NO PODEMOS VER DE MANERA CLARA LAS VARIACIONES POR FECHA DE LOS PRECIOS.\n",
    "* POR ELLO, EN EL DATASET CLEANING HABIAMOS REALIZADO DATAFRAMES POR MESES MÁS ESPECÍFICAS\n",
    "* VAMOS A ELLO!"
   ]
  },
  {
   "cell_type": "markdown",
   "metadata": {},
   "source": [
    "#### SEPTIEMBRE 2019"
   ]
  },
  {
   "cell_type": "code",
   "execution_count": 68,
   "metadata": {
    "scrolled": true
   },
   "outputs": [
    {
     "data": {
      "text/html": [
       "<div>\n",
       "<style scoped>\n",
       "    .dataframe tbody tr th:only-of-type {\n",
       "        vertical-align: middle;\n",
       "    }\n",
       "\n",
       "    .dataframe tbody tr th {\n",
       "        vertical-align: top;\n",
       "    }\n",
       "\n",
       "    .dataframe thead th {\n",
       "        text-align: right;\n",
       "    }\n",
       "</style>\n",
       "<table border=\"1\" class=\"dataframe\">\n",
       "  <thead>\n",
       "    <tr style=\"text-align: right;\">\n",
       "      <th></th>\n",
       "      <th>Unnamed: 0</th>\n",
       "      <th>SPT2019</th>\n",
       "      <th>P_SPT2019</th>\n",
       "    </tr>\n",
       "  </thead>\n",
       "  <tbody>\n",
       "    <tr>\n",
       "      <th>0</th>\n",
       "      <td>0</td>\n",
       "      <td>2019-09-19</td>\n",
       "      <td>$63.00</td>\n",
       "    </tr>\n",
       "    <tr>\n",
       "      <th>1</th>\n",
       "      <td>1</td>\n",
       "      <td>2019-09-19</td>\n",
       "      <td>$70.00</td>\n",
       "    </tr>\n",
       "    <tr>\n",
       "      <th>2</th>\n",
       "      <td>2</td>\n",
       "      <td>2019-09-20</td>\n",
       "      <td>$75.00</td>\n",
       "    </tr>\n",
       "    <tr>\n",
       "      <th>3</th>\n",
       "      <td>3</td>\n",
       "      <td>2019-09-21</td>\n",
       "      <td>$75.00</td>\n",
       "    </tr>\n",
       "    <tr>\n",
       "      <th>4</th>\n",
       "      <td>4</td>\n",
       "      <td>2019-09-22</td>\n",
       "      <td>$70.00</td>\n",
       "    </tr>\n",
       "    <tr>\n",
       "      <th>5</th>\n",
       "      <td>5</td>\n",
       "      <td>2019-09-23</td>\n",
       "      <td>$70.00</td>\n",
       "    </tr>\n",
       "    <tr>\n",
       "      <th>6</th>\n",
       "      <td>6</td>\n",
       "      <td>2019-09-24</td>\n",
       "      <td>$70.00</td>\n",
       "    </tr>\n",
       "  </tbody>\n",
       "</table>\n",
       "</div>"
      ],
      "text/plain": [
       "   Unnamed: 0     SPT2019 P_SPT2019\n",
       "0           0  2019-09-19    $63.00\n",
       "1           1  2019-09-19    $70.00\n",
       "2           2  2019-09-20    $75.00\n",
       "3           3  2019-09-21    $75.00\n",
       "4           4  2019-09-22    $70.00\n",
       "5           5  2019-09-23    $70.00\n",
       "6           6  2019-09-24    $70.00"
      ]
     },
     "execution_count": 68,
     "metadata": {},
     "output_type": "execute_result"
    }
   ],
   "source": [
    "df_SPT_19 = pd.read_csv('df_SPT_19.csv')\n",
    "df_SPT_19"
   ]
  },
  {
   "cell_type": "code",
   "execution_count": 113,
   "metadata": {},
   "outputs": [
    {
     "data": {
      "image/png": "[encoded data removed]",
      "text/plain": [
       "<Figure size 432x288 with 1 Axes>"
      ]
     },
     "metadata": {
      "needs_background": "light"
     },
     "output_type": "display_data"
    }
   ],
   "source": [
    "# GRAFICA 5:\n",
    "sns_plot_5 = sns.histplot(x= df_SPT_19.P_SPT2019, y= df_SPT_19.SPT2019)"
   ]
  },
  {
   "cell_type": "code",
   "execution_count": 114,
   "metadata": {},
   "outputs": [],
   "source": [
    "# GUARDAMOS GRÁFICA EN LA CARPETA DE OUTPUT\n",
    "sns_plot_5.figure.savefig(\"../output/Price_and_Date_Airbnb_Septiembre_2019100.jpg\", dpi=100)"
   ]
  },
  {
   "cell_type": "markdown",
   "metadata": {},
   "source": [
    "* AHORA SI, ESTA GRAFICA ES MUCHO MÁS LEGIBLE QUE LA ANTERIOR.\n",
    "* AHORA NOS PODEMOS FIJAR EN LA VARIACION DE PRECIOS SEGUN EL DIA EL MES Y EL AÑO\n",
    "* ¿ ADIVINAS POR QUÉ EL 21 Y 22 DE SEPT LOS AIRBNBS ERAN MÁS CAROS? SII! ES PORQUE ERA FINDESEMANA!\n",
    "* Y, ¿TE HAS FIJADO EN LOS PRECIOS? SI NO TE ACUERDAS DE LAS OFERTAS DE LOS HOTELES DURANTE ESTE MISMO PERIODO SCROLL UP Y ECHA UN OJO!! YA TODO EMPIEZA A TENER ALGO DE SENTIDO....\n",
    "* AH! Y TE RECUERDO! LOS PRECIOS DE LOS HOTELES SON OFERTAS!! NO SUS PRECIOS HABITUALES... FIJANDONS EN LOS Pº DE AIRBNB YA NOS PODEMOS A HACER UNA IDEA QUE ES PARA ATRAER CLINTES COMO AIRBNB --> ¡COMPETENCIA!"
   ]
  },
  {
   "cell_type": "markdown",
   "metadata": {},
   "source": [
    "#### RELACION GRÁFICA ENTRE LA API Y EL DATSET\n",
    "* EN ESTE APARTADO VAMOS A JUNTAS VARIABLES DE DOS DATAFRAME DIFERENTES PARA VER LA DIFERENCIA DE Pº ENTRE ELLAS\n",
    "* JUGAREMOS CON LOS Pº DE AIRBNB OBTENIDO DE NUESTRO DATASET Y CON LAS OFERTAS DE LOS HOTELES DE NUESTRA API"
   ]
  },
  {
   "cell_type": "code",
   "execution_count": 117,
   "metadata": {},
   "outputs": [
    {
     "data": {
      "image/png": "[encoded data removed]",
      "text/plain": [
       "<Figure size 432x288 with 1 Axes>"
      ]
     },
     "metadata": {
      "needs_background": "light"
     },
     "output_type": "display_data"
    }
   ],
   "source": [
    "#GRAFICA 6\n",
    "sns_plot_6 = sns.histplot(x=df_clean.TotalPrice, hue=df_SPT_19.P_SPT2019, fill= False)"
   ]
  },
  {
   "cell_type": "code",
   "execution_count": 118,
   "metadata": {},
   "outputs": [],
   "source": [
    "# GUARDAMOS GRÁFICA EN LA CARPETA DE OUTPUT\n",
    "sns_plot_6.figure.savefig(\"../output/Relacion_Prices_Airbnb_and_HotelOffers100.jpg\", dpi=100)"
   ]
  },
  {
   "cell_type": "markdown",
   "metadata": {},
   "source": [
    "* ESTA GRAFICA PARTE DE LOS PRECIOS DE LAS OFERTAS COMO BASE\n",
    "* Y NUESTRA LEYENDA NOS PROPORCIONA LOS Pº DE AIRBNB CON LOS CUALES NOS VA A BUSCAR UNA RELACION CON LA VARIABLE ANTERIOR\n",
    "* PODEMOS OBSERVAR QUE LOS Pº DE AIRBNB SIEMPRE SE MANTIENEN ESTABLES DANDO FIABILIDAD AL CLIENTE (SE ENCUENTRAN EN EL MEDIO DE NUESTRA GRAFICA)\n",
    "* MIENTRAS QUE LAS OFERTAS DE LOS HOTELES SON MÁS VARIABLES BUSCANDO LA CAPATACIÓN DEL CLIENTE(SE ENCUENTRAN A LOS EXTREMOS)"
   ]
  },
  {
   "cell_type": "code",
   "execution_count": 121,
   "metadata": {},
   "outputs": [
    {
     "data": {
      "image/png": "[encoded data removed]",
      "text/plain": [
       "<Figure size 432x288 with 1 Axes>"
      ]
     },
     "metadata": {
      "needs_background": "light"
     },
     "output_type": "display_data"
    }
   ],
   "source": [
    "# GRAFICA 7\n",
    "sns_plot_7 = sns.histplot(x=df_clean.TotalPrice, y=df_SPT_19.P_SPT2019, palette = 'Blues')"
   ]
  },
  {
   "cell_type": "code",
   "execution_count": 122,
   "metadata": {},
   "outputs": [],
   "source": [
    "# GUARDAMOS GRÁFICA EN LA CARPETA DE OUTPUT\n",
    "sns_plot_7.figure.savefig(\"../output/Otra_Relacion_Prices_Airbnb_and_HotelOffers100.jpg\", dpi=100)"
   ]
  },
  {
   "cell_type": "markdown",
   "metadata": {},
   "source": [
    "* ESTA GRAFICA NOS MUESTRA DE MANERA MÁS CLARA EL RANGO EN EL QUE SE ENCUENTRAN:\n",
    "    - LOS Pº DE AIRBNB (EN EL MEDIO --> Pº MÁS ESTABLES --> FIABILIDAD)\n",
    "    - LAS OFERTAS DE LOS HOTELES (A LOS EXTREMOS --> Pº MÁS VARIABLES --> CAPTAR ATENCION DEL CLIENTE)\n",
    "* TENEMOS QUE TENER EN CUENTA LOS DIFERENTES PERFILES A LOS QUE AMBAS EMPRESAS SE DIRIGEN PERO CUYO OBJETIVO ES EL MISMO:\n",
    "    - CAPTAR MAYOR Nº DE CLIENTES\n",
    "    - OBTENER MAXIMO BENEFICIO"
   ]
  },
  {
   "cell_type": "markdown",
   "metadata": {},
   "source": [
    "#### CALUCLO DE LA MEDIA DE LAS OFERTAS DE HOTELES"
   ]
  },
  {
   "cell_type": "code",
   "execution_count": 93,
   "metadata": {},
   "outputs": [
    {
     "data": {
      "text/plain": [
       "77.57142857142857"
      ]
     },
     "execution_count": 93,
     "metadata": {},
     "output_type": "execute_result"
    }
   ],
   "source": [
    "# CALUCLO DE LA MEDIA DE LAS OFERTAS DE HOTELES PARA PODER COMPARAR\n",
    "\n",
    "df_clean[\"TotalPrice\"] = df_clean[\"TotalPrice\"].astype(float)\n",
    "df_clean[\"TotalPrice\"]\n",
    "\n",
    "df_clean[\"TotalPrice\"].mean()"
   ]
  },
  {
   "cell_type": "markdown",
   "metadata": {},
   "source": [
    "#### CALCULO DE LA MEDIA DE LOS PRECIOS DE AIRBNB"
   ]
  },
  {
   "cell_type": "code",
   "execution_count": 95,
   "metadata": {},
   "outputs": [
    {
     "data": {
      "text/plain": [
       "0    63.00\n",
       "1    70.00\n",
       "2    75.00\n",
       "3    75.00\n",
       "4    70.00\n",
       "5    70.00\n",
       "6    70.00\n",
       "Name: P_SPT2019, dtype: object"
      ]
     },
     "execution_count": 95,
     "metadata": {},
     "output_type": "execute_result"
    }
   ],
   "source": [
    "# LE QUITAMOS EL SIMBOLO DEL DOLAR\n",
    "df_SPT_19[\"P_SPT2019\"] = df_SPT_19[\"P_SPT2019\"].str.replace('$', '')\n",
    "\n",
    "df_SPT_19[\"P_SPT2019\"]"
   ]
  },
  {
   "cell_type": "code",
   "execution_count": 96,
   "metadata": {},
   "outputs": [
    {
     "data": {
      "text/plain": [
       "70.42857142857143"
      ]
     },
     "execution_count": 96,
     "metadata": {},
     "output_type": "execute_result"
    }
   ],
   "source": [
    "df_SPT_19[\"P_SPT2019\"] = df_SPT_19[\"P_SPT2019\"].astype(float)\n",
    "df_SPT_19[\"P_SPT2019\"]\n",
    "\n",
    "df_SPT_19[\"P_SPT2019\"].mean()"
   ]
  },
  {
   "cell_type": "markdown",
   "metadata": {},
   "source": [
    "* COMO PODEMOS OBSERVAR LA MEDIA DE LAS OFERTAS DE LOS HOTELES ESTA POR ENCIMA DE LOS Pº HABITUALES DE AIRBNB\n",
    "* Y QUIERO VOLVER A RECALCAR QUE LOS PRECIOS OBTENIDOS DE LA INFORMACION DE LA API SON OFERTAS!! NO LOS PRECIOS HABITUALES"
   ]
  },
  {
   "cell_type": "markdown",
   "metadata": {},
   "source": [
    "### CONCLUSIONES\n",
    "* Airbnb es una de la mayores competencias para los hoteles\n",
    "* Los hoteles tienen que hacer ofertas para atraer clientes (marketing y sobrevivir)\n",
    "* Airbnb tiene sus precios más altos durante los findes de semana:\n",
    "    - Alomejor podrías alquilar tu habitación cuando te fueras de viaje un findesemana y amortizas ese viaje... PIENSALO! \n",
    "* Los hoteles tienen tarifas más altas y por ello tienen que hacer ofertas para atraer a clientela\n",
    "* Airbnb tiene pº más estables atrayendo a su clientela de esa manera\n",
    "* Los hoteles tienen pº más variables para la captacion de sus clientes (sus ofertas son para hacer frente a sus competidores)\n",
    "* Y, no podemos olvidar a que tipo de cliente esta dirigido cada servicio pero ambos tienen los mismos objetivos:\n",
    "    - Conseguir el maximo numero de clientes\n",
    "    - ¡OBTENER EL MAXIMO BENEFICIO!\n"
   ]
  }
 ],
 "metadata": {
  "kernelspec": {
   "display_name": "Python 3",
   "language": "python",
   "name": "python3"
  },
  "language_info": {
   "codemirror_mode": {
    "name": "ipython",
    "version": 3
   },
   "file_extension": ".py",
   "mimetype": "text/x-python",
   "name": "python",
   "nbconvert_exporter": "python",
   "pygments_lexer": "ipython3",
   "version": "3.8.3"
  }
 },
 "nbformat": 4,
 "nbformat_minor": 4
}
